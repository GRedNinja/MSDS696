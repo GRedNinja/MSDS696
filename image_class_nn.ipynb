{
  "cells": [
    {
      "cell_type": "code",
      "execution_count": null,
      "metadata": {
        "id": "atyqPFXPIMGr",
        "outputId": "984128e1-95e0-4c98-9182-50e8bf484db2"
      },
      "outputs": [
        {
          "name": "stderr",
          "output_type": "stream",
          "text": [
            "2024-08-17 14:33:39.056862: E external/local_xla/xla/stream_executor/cuda/cuda_fft.cc:485] Unable to register cuFFT factory: Attempting to register factory for plugin cuFFT when one has already been registered\n",
            "2024-08-17 14:33:39.098804: E external/local_xla/xla/stream_executor/cuda/cuda_dnn.cc:8454] Unable to register cuDNN factory: Attempting to register factory for plugin cuDNN when one has already been registered\n",
            "2024-08-17 14:33:39.109673: E external/local_xla/xla/stream_executor/cuda/cuda_blas.cc:1452] Unable to register cuBLAS factory: Attempting to register factory for plugin cuBLAS when one has already been registered\n",
            "2024-08-17 14:33:39.167547: I tensorflow/core/platform/cpu_feature_guard.cc:210] This TensorFlow binary is optimized to use available CPU instructions in performance-critical operations.\n",
            "To enable the following instructions: AVX2 FMA, in other operations, rebuild TensorFlow with the appropriate compiler flags.\n",
            "2024-08-17 14:33:39.975628: W tensorflow/compiler/tf2tensorrt/utils/py_utils.cc:38] TF-TRT Warning: Could not find TensorRT\n"
          ]
        }
      ],
      "source": [
        "import tensorflow as tf"
      ]
    },
    {
      "cell_type": "code",
      "execution_count": null,
      "metadata": {
        "id": "oAk6eAisIMGu",
        "outputId": "744ae7ab-018e-48c7-c53b-cba33d284d1d"
      },
      "outputs": [
        {
          "name": "stdout",
          "output_type": "stream",
          "text": [
            "Found a GPU with the name: []\n"
          ]
        },
        {
          "name": "stderr",
          "output_type": "stream",
          "text": [
            "2024-08-17 14:33:40.842103: E external/local_xla/xla/stream_executor/cuda/cuda_driver.cc:266] failed call to cuInit: CUDA_ERROR_SYSTEM_DRIVER_MISMATCH: system has unsupported display driver / cuda driver combination\n",
            "2024-08-17 14:33:40.842163: I external/local_xla/xla/stream_executor/cuda/cuda_diagnostics.cc:135] retrieving CUDA diagnostic information for host: gabriel-desktop\n",
            "2024-08-17 14:33:40.842168: I external/local_xla/xla/stream_executor/cuda/cuda_diagnostics.cc:142] hostname: gabriel-desktop\n",
            "2024-08-17 14:33:40.842233: I external/local_xla/xla/stream_executor/cuda/cuda_diagnostics.cc:166] libcuda reported version is: 550.90.7\n",
            "2024-08-17 14:33:40.842249: I external/local_xla/xla/stream_executor/cuda/cuda_diagnostics.cc:170] kernel reported version is: NOT_FOUND: could not find kernel module information in driver version file contents: \"NVRM version: NVIDIA UNIX Open Kernel Module for x86_64  555.42.02  Release Build  (dvs-builder@U16-I3-A03-02-4)  Mon May 13 17:10:33 UTC 2024\n",
            "GCC version:  gcc version 12.3.0 (Ubuntu 12.3.0-1ubuntu1~22.04) \n",
            "\"\n"
          ]
        }
      ],
      "source": [
        "gpus = tf.config.list_physical_devices(\"GPU\")\n",
        "print(\"Found a GPU with the name:\", gpus)"
      ]
    },
    {
      "cell_type": "code",
      "execution_count": null,
      "metadata": {
        "id": "1TUZsIcwIMGv"
      },
      "outputs": [],
      "source": [
        "import pandas as pd\n",
        "import numpy as np\n",
        "#import cv2\n",
        "import matplotlib.pyplot as plt\n",
        "import os, shutil\n",
        "import matplotlib.pyplot as plt\n",
        "import numpy as np\n",
        "import os, shutil # Library for navigating files\n",
        "from keras import backend as K\n",
        "from keras import backend, models, layers, optimizers, regularizers\n",
        "from keras.utils import to_categorical\n",
        "from keras.callbacks import EarlyStopping\n",
        "from sklearn.model_selection import train_test_split\n",
        "from IPython.display import display # Library to help view images\n",
        "from PIL import Image # Library to help view images\n",
        "from tensorflow.keras.preprocessing.image import ImageDataGenerator# Library for data augmentation\n",
        "from keras.preprocessing import image\n",
        "\n",
        "np.random.seed(1)"
      ]
    },
    {
      "cell_type": "code",
      "execution_count": null,
      "metadata": {
        "id": "I9N10Gc3-4Py"
      },
      "outputs": [],
      "source": [
        "\n",
        "#from google.colab import drive  # Library to mount google drives\n",
        "#drive.mount('/content/gdrive')\n",
        "base_dir = '//home/gabriel/Desktop/msds696'\n",
        "train_dir = os.path.join(base_dir, 'train')\n",
        "val_dir = os.path.join(base_dir, 'val')\n",
        "test_dir = os.path.join(base_dir, 'test')"
      ]
    },
    {
      "cell_type": "code",
      "execution_count": null,
      "metadata": {
        "id": "4vo8FTQ1_cu1"
      },
      "outputs": [],
      "source": [
        "df_train_path =os.path.join(base_dir, 'train_FD001.txt')\n",
        "df_test_path = os.path.join(base_dir, 'test_FD001.txt')\n",
        "columnnames=['unit number', 'time, in cycles', 'os1', 'os2', 'os3']\n",
        "for i in range (23):\n",
        "  columnnames.append(str(i))\n",
        "df_train = pd.read_csv(df_train_path,sep=\" \", header=None)\n",
        "df_test = pd.read_csv(df_test_path,sep=\" \", header=None)\n",
        "df_train.columns= columnnames\n",
        "df_test.columns= columnnames"
      ]
    },
    {
      "cell_type": "code",
      "execution_count": null,
      "metadata": {
        "id": "QPibIAEBAEvK"
      },
      "outputs": [],
      "source": [
        "df_train = df_train.drop(columns=[\"21\",\"22\"])\n",
        "df_test = df_test.drop(columns=[\"21\",\"22\"])"
      ]
    },
    {
      "cell_type": "code",
      "execution_count": null,
      "metadata": {
        "id": "X0mriFcOAIH5"
      },
      "outputs": [],
      "source": [
        "unique_values_unit_number_train = df_train['unit number'].unique()\n",
        "\n",
        "unique_values_unit_number_test = df_test['unit number'].unique()\n"
      ]
    },
    {
      "cell_type": "code",
      "execution_count": null,
      "metadata": {
        "colab": {
          "base_uri": "https://localhost:8080/",
          "height": 236
        },
        "id": "0Mok2vzvAK_t",
        "outputId": "5f05aacc-e83c-4141-ff4f-273799d71857"
      },
      "outputs": [
        {
          "data": {
            "text/html": [
              "<div>\n",
              "<style scoped>\n",
              "    .dataframe tbody tr th:only-of-type {\n",
              "        vertical-align: middle;\n",
              "    }\n",
              "\n",
              "    .dataframe tbody tr th {\n",
              "        vertical-align: top;\n",
              "    }\n",
              "\n",
              "    .dataframe thead th {\n",
              "        text-align: right;\n",
              "    }\n",
              "</style>\n",
              "<table border=\"1\" class=\"dataframe\">\n",
              "  <thead>\n",
              "    <tr style=\"text-align: right;\">\n",
              "      <th></th>\n",
              "      <th>unit number</th>\n",
              "      <th>time, in cycles</th>\n",
              "      <th>os1</th>\n",
              "      <th>os2</th>\n",
              "      <th>os3</th>\n",
              "      <th>0</th>\n",
              "      <th>1</th>\n",
              "      <th>2</th>\n",
              "      <th>3</th>\n",
              "      <th>4</th>\n",
              "      <th>...</th>\n",
              "      <th>14</th>\n",
              "      <th>15</th>\n",
              "      <th>16</th>\n",
              "      <th>17</th>\n",
              "      <th>18</th>\n",
              "      <th>19</th>\n",
              "      <th>20</th>\n",
              "      <th>EOL</th>\n",
              "      <th>LR</th>\n",
              "      <th>label</th>\n",
              "    </tr>\n",
              "  </thead>\n",
              "  <tbody>\n",
              "    <tr>\n",
              "      <th>0</th>\n",
              "      <td>1</td>\n",
              "      <td>1</td>\n",
              "      <td>-0.0007</td>\n",
              "      <td>-0.0004</td>\n",
              "      <td>100.0</td>\n",
              "      <td>518.67</td>\n",
              "      <td>641.82</td>\n",
              "      <td>1589.70</td>\n",
              "      <td>1400.60</td>\n",
              "      <td>14.62</td>\n",
              "      <td>...</td>\n",
              "      <td>8.4195</td>\n",
              "      <td>0.03</td>\n",
              "      <td>392</td>\n",
              "      <td>2388</td>\n",
              "      <td>100.0</td>\n",
              "      <td>39.06</td>\n",
              "      <td>23.4190</td>\n",
              "      <td>192</td>\n",
              "      <td>0.005208</td>\n",
              "      <td>0</td>\n",
              "    </tr>\n",
              "    <tr>\n",
              "      <th>1</th>\n",
              "      <td>1</td>\n",
              "      <td>2</td>\n",
              "      <td>0.0019</td>\n",
              "      <td>-0.0003</td>\n",
              "      <td>100.0</td>\n",
              "      <td>518.67</td>\n",
              "      <td>642.15</td>\n",
              "      <td>1591.82</td>\n",
              "      <td>1403.14</td>\n",
              "      <td>14.62</td>\n",
              "      <td>...</td>\n",
              "      <td>8.4318</td>\n",
              "      <td>0.03</td>\n",
              "      <td>392</td>\n",
              "      <td>2388</td>\n",
              "      <td>100.0</td>\n",
              "      <td>39.00</td>\n",
              "      <td>23.4236</td>\n",
              "      <td>192</td>\n",
              "      <td>0.010417</td>\n",
              "      <td>0</td>\n",
              "    </tr>\n",
              "    <tr>\n",
              "      <th>2</th>\n",
              "      <td>1</td>\n",
              "      <td>3</td>\n",
              "      <td>-0.0043</td>\n",
              "      <td>0.0003</td>\n",
              "      <td>100.0</td>\n",
              "      <td>518.67</td>\n",
              "      <td>642.35</td>\n",
              "      <td>1587.99</td>\n",
              "      <td>1404.20</td>\n",
              "      <td>14.62</td>\n",
              "      <td>...</td>\n",
              "      <td>8.4178</td>\n",
              "      <td>0.03</td>\n",
              "      <td>390</td>\n",
              "      <td>2388</td>\n",
              "      <td>100.0</td>\n",
              "      <td>38.95</td>\n",
              "      <td>23.3442</td>\n",
              "      <td>192</td>\n",
              "      <td>0.015625</td>\n",
              "      <td>0</td>\n",
              "    </tr>\n",
              "    <tr>\n",
              "      <th>3</th>\n",
              "      <td>1</td>\n",
              "      <td>4</td>\n",
              "      <td>0.0007</td>\n",
              "      <td>0.0000</td>\n",
              "      <td>100.0</td>\n",
              "      <td>518.67</td>\n",
              "      <td>642.35</td>\n",
              "      <td>1582.79</td>\n",
              "      <td>1401.87</td>\n",
              "      <td>14.62</td>\n",
              "      <td>...</td>\n",
              "      <td>8.3682</td>\n",
              "      <td>0.03</td>\n",
              "      <td>392</td>\n",
              "      <td>2388</td>\n",
              "      <td>100.0</td>\n",
              "      <td>38.88</td>\n",
              "      <td>23.3739</td>\n",
              "      <td>192</td>\n",
              "      <td>0.020833</td>\n",
              "      <td>0</td>\n",
              "    </tr>\n",
              "    <tr>\n",
              "      <th>4</th>\n",
              "      <td>1</td>\n",
              "      <td>5</td>\n",
              "      <td>-0.0019</td>\n",
              "      <td>-0.0002</td>\n",
              "      <td>100.0</td>\n",
              "      <td>518.67</td>\n",
              "      <td>642.37</td>\n",
              "      <td>1582.85</td>\n",
              "      <td>1406.22</td>\n",
              "      <td>14.62</td>\n",
              "      <td>...</td>\n",
              "      <td>8.4294</td>\n",
              "      <td>0.03</td>\n",
              "      <td>393</td>\n",
              "      <td>2388</td>\n",
              "      <td>100.0</td>\n",
              "      <td>38.90</td>\n",
              "      <td>23.4044</td>\n",
              "      <td>192</td>\n",
              "      <td>0.026042</td>\n",
              "      <td>0</td>\n",
              "    </tr>\n",
              "  </tbody>\n",
              "</table>\n",
              "<p>5 rows × 29 columns</p>\n",
              "</div>"
            ],
            "text/plain": [
              "   unit number  time, in cycles     os1     os2    os3       0       1  \\\n",
              "0            1                1 -0.0007 -0.0004  100.0  518.67  641.82   \n",
              "1            1                2  0.0019 -0.0003  100.0  518.67  642.15   \n",
              "2            1                3 -0.0043  0.0003  100.0  518.67  642.35   \n",
              "3            1                4  0.0007  0.0000  100.0  518.67  642.35   \n",
              "4            1                5 -0.0019 -0.0002  100.0  518.67  642.37   \n",
              "\n",
              "         2        3      4  ...      14    15   16    17     18     19  \\\n",
              "0  1589.70  1400.60  14.62  ...  8.4195  0.03  392  2388  100.0  39.06   \n",
              "1  1591.82  1403.14  14.62  ...  8.4318  0.03  392  2388  100.0  39.00   \n",
              "2  1587.99  1404.20  14.62  ...  8.4178  0.03  390  2388  100.0  38.95   \n",
              "3  1582.79  1401.87  14.62  ...  8.3682  0.03  392  2388  100.0  38.88   \n",
              "4  1582.85  1406.22  14.62  ...  8.4294  0.03  393  2388  100.0  38.90   \n",
              "\n",
              "        20  EOL        LR  label  \n",
              "0  23.4190  192  0.005208      0  \n",
              "1  23.4236  192  0.010417      0  \n",
              "2  23.3442  192  0.015625      0  \n",
              "3  23.3739  192  0.020833      0  \n",
              "4  23.4044  192  0.026042      0  \n",
              "\n",
              "[5 rows x 29 columns]"
            ]
          },
          "execution_count": 8,
          "metadata": {},
          "output_type": "execute_result"
        }
      ],
      "source": [
        "EOL_train=[]\n",
        "for i in df_train['unit number']:\n",
        "        EOL_train.append( ((df_train[df_train['unit number'] == i][\"time, in cycles\"]).values)[-1])\n",
        "\n",
        "df_train[\"EOL\"]=EOL_train\n",
        "\n",
        "# Calculate \"LR\"\n",
        "df_train[\"LR\"] = df_train[\"time, in cycles\"].div(df_train[\"EOL\"])\n",
        "\n",
        "df_train['label'] = pd.cut(df_train['LR'], bins=[0, 0.6, 0.8, np.inf], labels=[0, 1, 2], right=False)\n",
        "\n",
        "#df_path.drop(columns=['unit number', 'EOL', 'LR'], inplace=True)\n",
        "\n",
        "\n",
        "df_train.head()"
      ]
    },
    {
      "cell_type": "code",
      "execution_count": null,
      "metadata": {
        "colab": {
          "base_uri": "https://localhost:8080/",
          "height": 236
        },
        "id": "kW0UnZFsF8_I",
        "outputId": "92276350-5081-496d-d015-b80ae611d509"
      },
      "outputs": [
        {
          "data": {
            "text/html": [
              "<div>\n",
              "<style scoped>\n",
              "    .dataframe tbody tr th:only-of-type {\n",
              "        vertical-align: middle;\n",
              "    }\n",
              "\n",
              "    .dataframe tbody tr th {\n",
              "        vertical-align: top;\n",
              "    }\n",
              "\n",
              "    .dataframe thead th {\n",
              "        text-align: right;\n",
              "    }\n",
              "</style>\n",
              "<table border=\"1\" class=\"dataframe\">\n",
              "  <thead>\n",
              "    <tr style=\"text-align: right;\">\n",
              "      <th></th>\n",
              "      <th>unit number</th>\n",
              "      <th>time, in cycles</th>\n",
              "      <th>os1</th>\n",
              "      <th>os2</th>\n",
              "      <th>os3</th>\n",
              "      <th>0</th>\n",
              "      <th>1</th>\n",
              "      <th>2</th>\n",
              "      <th>3</th>\n",
              "      <th>4</th>\n",
              "      <th>...</th>\n",
              "      <th>14</th>\n",
              "      <th>15</th>\n",
              "      <th>16</th>\n",
              "      <th>17</th>\n",
              "      <th>18</th>\n",
              "      <th>19</th>\n",
              "      <th>20</th>\n",
              "      <th>EOL</th>\n",
              "      <th>LR</th>\n",
              "      <th>label</th>\n",
              "    </tr>\n",
              "  </thead>\n",
              "  <tbody>\n",
              "    <tr>\n",
              "      <th>0</th>\n",
              "      <td>1</td>\n",
              "      <td>1</td>\n",
              "      <td>0.0023</td>\n",
              "      <td>0.0003</td>\n",
              "      <td>100.0</td>\n",
              "      <td>518.67</td>\n",
              "      <td>643.02</td>\n",
              "      <td>1585.29</td>\n",
              "      <td>1398.21</td>\n",
              "      <td>14.62</td>\n",
              "      <td>...</td>\n",
              "      <td>8.4052</td>\n",
              "      <td>0.03</td>\n",
              "      <td>392</td>\n",
              "      <td>2388</td>\n",
              "      <td>100.0</td>\n",
              "      <td>38.86</td>\n",
              "      <td>23.3735</td>\n",
              "      <td>31</td>\n",
              "      <td>0.032258</td>\n",
              "      <td>0</td>\n",
              "    </tr>\n",
              "    <tr>\n",
              "      <th>1</th>\n",
              "      <td>1</td>\n",
              "      <td>2</td>\n",
              "      <td>-0.0027</td>\n",
              "      <td>-0.0003</td>\n",
              "      <td>100.0</td>\n",
              "      <td>518.67</td>\n",
              "      <td>641.71</td>\n",
              "      <td>1588.45</td>\n",
              "      <td>1395.42</td>\n",
              "      <td>14.62</td>\n",
              "      <td>...</td>\n",
              "      <td>8.3803</td>\n",
              "      <td>0.03</td>\n",
              "      <td>393</td>\n",
              "      <td>2388</td>\n",
              "      <td>100.0</td>\n",
              "      <td>39.02</td>\n",
              "      <td>23.3916</td>\n",
              "      <td>31</td>\n",
              "      <td>0.064516</td>\n",
              "      <td>0</td>\n",
              "    </tr>\n",
              "    <tr>\n",
              "      <th>2</th>\n",
              "      <td>1</td>\n",
              "      <td>3</td>\n",
              "      <td>0.0003</td>\n",
              "      <td>0.0001</td>\n",
              "      <td>100.0</td>\n",
              "      <td>518.67</td>\n",
              "      <td>642.46</td>\n",
              "      <td>1586.94</td>\n",
              "      <td>1401.34</td>\n",
              "      <td>14.62</td>\n",
              "      <td>...</td>\n",
              "      <td>8.4441</td>\n",
              "      <td>0.03</td>\n",
              "      <td>393</td>\n",
              "      <td>2388</td>\n",
              "      <td>100.0</td>\n",
              "      <td>39.08</td>\n",
              "      <td>23.4166</td>\n",
              "      <td>31</td>\n",
              "      <td>0.096774</td>\n",
              "      <td>0</td>\n",
              "    </tr>\n",
              "    <tr>\n",
              "      <th>3</th>\n",
              "      <td>1</td>\n",
              "      <td>4</td>\n",
              "      <td>0.0042</td>\n",
              "      <td>0.0000</td>\n",
              "      <td>100.0</td>\n",
              "      <td>518.67</td>\n",
              "      <td>642.44</td>\n",
              "      <td>1584.12</td>\n",
              "      <td>1406.42</td>\n",
              "      <td>14.62</td>\n",
              "      <td>...</td>\n",
              "      <td>8.3917</td>\n",
              "      <td>0.03</td>\n",
              "      <td>391</td>\n",
              "      <td>2388</td>\n",
              "      <td>100.0</td>\n",
              "      <td>39.00</td>\n",
              "      <td>23.3737</td>\n",
              "      <td>31</td>\n",
              "      <td>0.129032</td>\n",
              "      <td>0</td>\n",
              "    </tr>\n",
              "    <tr>\n",
              "      <th>4</th>\n",
              "      <td>1</td>\n",
              "      <td>5</td>\n",
              "      <td>0.0014</td>\n",
              "      <td>0.0000</td>\n",
              "      <td>100.0</td>\n",
              "      <td>518.67</td>\n",
              "      <td>642.51</td>\n",
              "      <td>1587.19</td>\n",
              "      <td>1401.92</td>\n",
              "      <td>14.62</td>\n",
              "      <td>...</td>\n",
              "      <td>8.4031</td>\n",
              "      <td>0.03</td>\n",
              "      <td>390</td>\n",
              "      <td>2388</td>\n",
              "      <td>100.0</td>\n",
              "      <td>38.99</td>\n",
              "      <td>23.4130</td>\n",
              "      <td>31</td>\n",
              "      <td>0.161290</td>\n",
              "      <td>0</td>\n",
              "    </tr>\n",
              "  </tbody>\n",
              "</table>\n",
              "<p>5 rows × 29 columns</p>\n",
              "</div>"
            ],
            "text/plain": [
              "   unit number  time, in cycles     os1     os2    os3       0       1  \\\n",
              "0            1                1  0.0023  0.0003  100.0  518.67  643.02   \n",
              "1            1                2 -0.0027 -0.0003  100.0  518.67  641.71   \n",
              "2            1                3  0.0003  0.0001  100.0  518.67  642.46   \n",
              "3            1                4  0.0042  0.0000  100.0  518.67  642.44   \n",
              "4            1                5  0.0014  0.0000  100.0  518.67  642.51   \n",
              "\n",
              "         2        3      4  ...      14    15   16    17     18     19  \\\n",
              "0  1585.29  1398.21  14.62  ...  8.4052  0.03  392  2388  100.0  38.86   \n",
              "1  1588.45  1395.42  14.62  ...  8.3803  0.03  393  2388  100.0  39.02   \n",
              "2  1586.94  1401.34  14.62  ...  8.4441  0.03  393  2388  100.0  39.08   \n",
              "3  1584.12  1406.42  14.62  ...  8.3917  0.03  391  2388  100.0  39.00   \n",
              "4  1587.19  1401.92  14.62  ...  8.4031  0.03  390  2388  100.0  38.99   \n",
              "\n",
              "        20  EOL        LR  label  \n",
              "0  23.3735   31  0.032258      0  \n",
              "1  23.3916   31  0.064516      0  \n",
              "2  23.4166   31  0.096774      0  \n",
              "3  23.3737   31  0.129032      0  \n",
              "4  23.4130   31  0.161290      0  \n",
              "\n",
              "[5 rows x 29 columns]"
            ]
          },
          "execution_count": 9,
          "metadata": {},
          "output_type": "execute_result"
        }
      ],
      "source": [
        "EOL_test=[]\n",
        "for i in df_test['unit number']:\n",
        "        EOL_test.append( ((df_test[df_test['unit number'] == i][\"time, in cycles\"]).values)[-1])\n",
        "\n",
        "df_test[\"EOL\"]=EOL_test\n",
        "\n",
        "# Calculate \"LR\"\n",
        "df_test[\"LR\"] = df_test[\"time, in cycles\"].div(df_test[\"EOL\"])\n",
        "\n",
        "df_test['label'] = pd.cut(df_test['LR'], bins=[0, 0.6, 0.8, np.inf], labels=[0, 1, 2], right=False)\n",
        "\n",
        "#df_path.drop(columns=['unit number', 'EOL', 'LR'], inplace=True)\n",
        "\n",
        "\n",
        "df_test.head()"
      ]
    },
    {
      "cell_type": "code",
      "execution_count": null,
      "metadata": {
        "id": "Kmc62P7tAQL8"
      },
      "outputs": [],
      "source": [
        "df_train['label'] = df_train.label.cat.codes\n",
        "df_test['label'] = df_test.label.cat.codes"
      ]
    },
    {
      "cell_type": "code",
      "execution_count": null,
      "metadata": {
        "id": "F1ES7n7zGRGt"
      },
      "outputs": [],
      "source": []
    },
    {
      "cell_type": "code",
      "execution_count": null,
      "metadata": {
        "id": "lL_wXS9XASr5"
      },
      "outputs": [],
      "source": [
        "columns_to_exclude = ['unit number','EOL','label', 'LR','os3','0','4','9','17','18','15']\n",
        "\n",
        "# Create a new DataFrame with only the columns you want to scale\n",
        "df_train_subset = df_train.drop(columns=columns_to_exclude)\n",
        "for column_name in df_train_subset.columns:\n",
        "    df_train[column_name] = (df_train[column_name] - df_train[column_name].min()) / (df_train[column_name].max() - df_train[column_name].min())\n",
        "\n",
        "df_test_subset = df_test.drop(columns=columns_to_exclude)\n",
        "for column_name in df_test_subset.columns:\n",
        "    df_test_subset[column_name] = (df_test_subset[column_name] - df_test_subset[column_name].min()) / (df_test_subset[column_name].max() - df_test_subset[column_name].min())"
      ]
    },
    {
      "cell_type": "code",
      "execution_count": null,
      "metadata": {
        "id": "d-45p7cVAbFc"
      },
      "outputs": [],
      "source": [
        "\n",
        "output_dir_train_0 = \"//home/gabriel/Desktop/msds696/train/zero\"\n",
        "output_dir_train_1 = \"//home/gabriel/Desktop/msds696/train/one\"\n",
        "output_dir_train_2 = \"//home/gabriel/Desktop/msds696/train/two\"\n",
        "output_dir_test_0 = \"//home/gabriel/Desktop/msds696/test/zero\"\n",
        "output_dir_test_1 = \"//home/gabriel/Desktop/msds696/test/one\"\n",
        "output_dir_test_2 = \"//home/gabriel/Desktop/msds696/test/two\"\n",
        "\n",
        "os.makedirs(output_dir_train_0 , exist_ok=True)\n",
        "os.makedirs(output_dir_train_1, exist_ok=True)\n",
        "os.makedirs(output_dir_train_2, exist_ok=True)\n",
        "os.makedirs(output_dir_test_0 , exist_ok=True)\n",
        "os.makedirs(output_dir_test_1, exist_ok=True)\n",
        "os.makedirs(output_dir_test_2, exist_ok=True)\n",
        "\n"
      ]
    },
    {
      "cell_type": "code",
      "execution_count": null,
      "metadata": {
        "id": "N-0t30MnAhlG"
      },
      "outputs": [],
      "source": [
        "df_train_list = []\n",
        "df_test_list = []\n",
        "for i in unique_values_unit_number_train:\n",
        "    df_i = df_train[df_train['unit number'] == i]\n",
        "    df_train_list.append(df_i)\n",
        "for i in unique_values_unit_number_test:\n",
        "    df_i = df_test[df_test['unit number'] == i]\n",
        "    df_test_list.append(df_i)"
      ]
    },
    {
      "cell_type": "code",
      "execution_count": null,
      "metadata": {
        "id": "dy1NxJfZAiGO"
      },
      "outputs": [],
      "source": [
        "\n",
        "\n",
        "df_0_train = []\n",
        "df_1_train = []\n",
        "df_2_train = []\n",
        "df_0_test = []\n",
        "df_1_test = []\n",
        "df_2_test = []\n",
        "z = 0\n",
        "o = 1\n",
        "t = 2\n",
        "exclude = ['label','unit number']\n",
        "\n",
        "\n",
        "\n",
        "for x in df_train_list:\n",
        "\n",
        "             df_1 = x[x['label'] == z]\n",
        "             df_1 = df_1.drop(columns=  columns_to_exclude )\n",
        "             df_2 = x[x['label'] == o]\n",
        "             df_2 = df_2.drop(columns= columns_to_exclude )\n",
        "             df_3 = x[x['label'] == t]\n",
        "             df_3 = df_3.drop(columns= columns_to_exclude )\n",
        "\n",
        "\n",
        "             df_0_train.append(df_1)\n",
        "             df_1_train.append(df_2)\n",
        "             df_2_train.append(df_3)\n",
        "for y in df_test_list:\n",
        "\n",
        "             df_1_test_sig = x[x['label'] == z]\n",
        "             df_1_test_sig= df_1_test_sig.drop(columns= columns_to_exclude )\n",
        "\n",
        "             df_2_test_sig  = x[x['label'] == o]\n",
        "             df_2_test_sig= df_2_test_sig.drop(columns= columns_to_exclude )\n",
        "\n",
        "             df_3_test_sig  = x[x['label'] == t]\n",
        "             df_3_test_sig= df_3_test_sig.drop(columns= columns_to_exclude )\n",
        "\n",
        "\n",
        "             df_0_test.append(df_1_test_sig )\n",
        "             df_1_test.append(df_2_test_sig )\n",
        "             df_2_test.append(df_3_test_sig )\n",
        "\n",
        "\n",
        "\n"
      ]
    },
    {
      "cell_type": "code",
      "execution_count": null,
      "metadata": {
        "id": "HDcUaxKEIMG3",
        "outputId": "57841e2d-ca39-4c91-a361-3474a45d5471"
      },
      "outputs": [
        {
          "data": {
            "text/html": [
              "<div>\n",
              "<style scoped>\n",
              "    .dataframe tbody tr th:only-of-type {\n",
              "        vertical-align: middle;\n",
              "    }\n",
              "\n",
              "    .dataframe tbody tr th {\n",
              "        vertical-align: top;\n",
              "    }\n",
              "\n",
              "    .dataframe thead th {\n",
              "        text-align: right;\n",
              "    }\n",
              "</style>\n",
              "<table border=\"1\" class=\"dataframe\">\n",
              "  <thead>\n",
              "    <tr style=\"text-align: right;\">\n",
              "      <th></th>\n",
              "      <th>time, in cycles</th>\n",
              "      <th>os1</th>\n",
              "      <th>os2</th>\n",
              "      <th>1</th>\n",
              "      <th>2</th>\n",
              "      <th>3</th>\n",
              "      <th>5</th>\n",
              "      <th>6</th>\n",
              "      <th>7</th>\n",
              "      <th>8</th>\n",
              "      <th>10</th>\n",
              "      <th>11</th>\n",
              "      <th>12</th>\n",
              "      <th>13</th>\n",
              "      <th>14</th>\n",
              "      <th>16</th>\n",
              "      <th>19</th>\n",
              "      <th>20</th>\n",
              "    </tr>\n",
              "  </thead>\n",
              "  <tbody>\n",
              "    <tr>\n",
              "      <th>20590</th>\n",
              "      <td>0.440443</td>\n",
              "      <td>0.557471</td>\n",
              "      <td>0.583333</td>\n",
              "      <td>0.584337</td>\n",
              "      <td>0.584914</td>\n",
              "      <td>0.573599</td>\n",
              "      <td>1.0</td>\n",
              "      <td>0.558776</td>\n",
              "      <td>0.409091</td>\n",
              "      <td>0.220632</td>\n",
              "      <td>0.666667</td>\n",
              "      <td>0.464819</td>\n",
              "      <td>0.352941</td>\n",
              "      <td>0.234802</td>\n",
              "      <td>0.530589</td>\n",
              "      <td>0.583333</td>\n",
              "      <td>0.372093</td>\n",
              "      <td>0.297294</td>\n",
              "    </tr>\n",
              "    <tr>\n",
              "      <th>20591</th>\n",
              "      <td>0.443213</td>\n",
              "      <td>0.201149</td>\n",
              "      <td>0.333333</td>\n",
              "      <td>0.515060</td>\n",
              "      <td>0.514061</td>\n",
              "      <td>0.552330</td>\n",
              "      <td>1.0</td>\n",
              "      <td>0.446055</td>\n",
              "      <td>0.424242</td>\n",
              "      <td>0.186126</td>\n",
              "      <td>0.625000</td>\n",
              "      <td>0.466951</td>\n",
              "      <td>0.338235</td>\n",
              "      <td>0.196666</td>\n",
              "      <td>0.439400</td>\n",
              "      <td>0.416667</td>\n",
              "      <td>0.317829</td>\n",
              "      <td>0.354322</td>\n",
              "    </tr>\n",
              "    <tr>\n",
              "      <th>20592</th>\n",
              "      <td>0.445983</td>\n",
              "      <td>0.580460</td>\n",
              "      <td>0.500000</td>\n",
              "      <td>0.530120</td>\n",
              "      <td>0.516896</td>\n",
              "      <td>0.481263</td>\n",
              "      <td>1.0</td>\n",
              "      <td>0.560386</td>\n",
              "      <td>0.393939</td>\n",
              "      <td>0.186619</td>\n",
              "      <td>0.559524</td>\n",
              "      <td>0.332623</td>\n",
              "      <td>0.411765</td>\n",
              "      <td>0.205955</td>\n",
              "      <td>0.565217</td>\n",
              "      <td>0.500000</td>\n",
              "      <td>0.534884</td>\n",
              "      <td>0.510080</td>\n",
              "    </tr>\n",
              "    <tr>\n",
              "      <th>20593</th>\n",
              "      <td>0.448753</td>\n",
              "      <td>0.551724</td>\n",
              "      <td>0.750000</td>\n",
              "      <td>0.641566</td>\n",
              "      <td>0.491389</td>\n",
              "      <td>0.517218</td>\n",
              "      <td>1.0</td>\n",
              "      <td>0.400966</td>\n",
              "      <td>0.333333</td>\n",
              "      <td>0.226151</td>\n",
              "      <td>0.690476</td>\n",
              "      <td>0.511727</td>\n",
              "      <td>0.397059</td>\n",
              "      <td>0.230984</td>\n",
              "      <td>0.495575</td>\n",
              "      <td>0.666667</td>\n",
              "      <td>0.232558</td>\n",
              "      <td>0.360950</td>\n",
              "    </tr>\n",
              "    <tr>\n",
              "      <th>20594</th>\n",
              "      <td>0.451524</td>\n",
              "      <td>0.229885</td>\n",
              "      <td>0.166667</td>\n",
              "      <td>0.509036</td>\n",
              "      <td>0.480052</td>\n",
              "      <td>0.728224</td>\n",
              "      <td>1.0</td>\n",
              "      <td>0.368760</td>\n",
              "      <td>0.378788</td>\n",
              "      <td>0.203267</td>\n",
              "      <td>0.601190</td>\n",
              "      <td>0.509595</td>\n",
              "      <td>0.382353</td>\n",
              "      <td>0.224739</td>\n",
              "      <td>0.567141</td>\n",
              "      <td>0.583333</td>\n",
              "      <td>0.465116</td>\n",
              "      <td>0.280309</td>\n",
              "    </tr>\n",
              "  </tbody>\n",
              "</table>\n",
              "</div>"
            ],
            "text/plain": [
              "       time, in cycles       os1       os2         1         2         3    5  \\\n",
              "20590         0.440443  0.557471  0.583333  0.584337  0.584914  0.573599  1.0   \n",
              "20591         0.443213  0.201149  0.333333  0.515060  0.514061  0.552330  1.0   \n",
              "20592         0.445983  0.580460  0.500000  0.530120  0.516896  0.481263  1.0   \n",
              "20593         0.448753  0.551724  0.750000  0.641566  0.491389  0.517218  1.0   \n",
              "20594         0.451524  0.229885  0.166667  0.509036  0.480052  0.728224  1.0   \n",
              "\n",
              "              6         7         8        10        11        12        13  \\\n",
              "20590  0.558776  0.409091  0.220632  0.666667  0.464819  0.352941  0.234802   \n",
              "20591  0.446055  0.424242  0.186126  0.625000  0.466951  0.338235  0.196666   \n",
              "20592  0.560386  0.393939  0.186619  0.559524  0.332623  0.411765  0.205955   \n",
              "20593  0.400966  0.333333  0.226151  0.690476  0.511727  0.397059  0.230984   \n",
              "20594  0.368760  0.378788  0.203267  0.601190  0.509595  0.382353  0.224739   \n",
              "\n",
              "             14        16        19        20  \n",
              "20590  0.530589  0.583333  0.372093  0.297294  \n",
              "20591  0.439400  0.416667  0.317829  0.354322  \n",
              "20592  0.565217  0.500000  0.534884  0.510080  \n",
              "20593  0.495575  0.666667  0.232558  0.360950  \n",
              "20594  0.567141  0.583333  0.465116  0.280309  "
            ]
          },
          "execution_count": 15,
          "metadata": {},
          "output_type": "execute_result"
        }
      ],
      "source": [
        "df_2_test[0].head()"
      ]
    },
    {
      "cell_type": "code",
      "execution_count": null,
      "metadata": {
        "id": "YVD321ciAklT"
      },
      "outputs": [],
      "source": [
        "\n",
        "for i in range (len(df_0_train )):\n",
        "    filename = f'image_zero_{i}.png'\n",
        "    for j in df_0_train:\n",
        "        #j = j.drop(columns=exclude)\n",
        "        j_array = j.to_numpy()\n",
        "        uint_img = np.array(j_array * 255, dtype = np.uint8)\n",
        "        img = Image.fromarray(uint_img)\n",
        "        full_path = os.path.join(output_dir_train_0, filename)\n",
        "        img.save(full_path)\n",
        "for i in range (len(df_1_train )):\n",
        "    filename = f'image_one_{i}.png'\n",
        "    for j in df_1_train:\n",
        "        #j = j.drop(columns=exclude)\n",
        "        j_array = j.to_numpy()\n",
        "        uint_img = np.array(j_array * 255, dtype = np.uint8)\n",
        "        img = Image.fromarray(uint_img)\n",
        "        full_path = os.path.join(output_dir_train_1, filename)\n",
        "        img.save(full_path)\n",
        "for i in range (len(df_2_train )):\n",
        "    filename = f'image_two_{i}.png'\n",
        "    for j in df_2_train:\n",
        "        #j = j.drop(columns=exclude)\n",
        "        j_array = j.to_numpy()\n",
        "        uint_img = np.array(j_array * 255, dtype = np.uint8)\n",
        "        img = Image.fromarray(uint_img)\n",
        "        full_path = os.path.join(output_dir_train_2, filename)\n",
        "        img.save(full_path)"
      ]
    },
    {
      "cell_type": "code",
      "execution_count": null,
      "metadata": {
        "id": "Wsu_Y4gAKCGn"
      },
      "outputs": [],
      "source": [
        "for i in range (len(df_0_test )):\n",
        "    filename = f'image__{i}.png'\n",
        "    for j in df_0_test:\n",
        "        #j = j.drop(columns=exclude)\n",
        "        j_array = j.to_numpy()\n",
        "        uint_img = np.array(j_array * 255, dtype = np.uint8)\n",
        "        img = Image.fromarray(uint_img)\n",
        "        full_path = os.path.join(output_dir_test_0, filename)\n",
        "        img.save(full_path)\n",
        "for i in range (len(df_1_test )):\n",
        "    filename= f'image__{i}.png'\n",
        "    for j in df_1_test:\n",
        "        #j = j.drop(columns=exclude)\n",
        "        j_array = j.to_numpy()\n",
        "        uint_img = np.array(j_array * 255, dtype = np.uint8)\n",
        "        img = Image.fromarray(uint_img)\n",
        "        full_path = os.path.join(output_dir_test_1, filename)\n",
        "        img.save(full_path)\n",
        "for i in range (len(df_2_test )):\n",
        "    filename = f'image__{i}.png'\n",
        "    for j in df_2_test:\n",
        "        #j = j.drop(columns=exclude)\n",
        "        j_array = j.to_numpy()\n",
        "        uint_img = np.array(j_array * 255, dtype = np.uint8)\n",
        "        img = Image.fromarray(uint_img)\n",
        "        full_path = os.path.join(output_dir_test_2, filename)\n",
        "        img.save(full_path)"
      ]
    },
    {
      "cell_type": "code",
      "execution_count": null,
      "metadata": {
        "id": "HYVL3FaTSr3R"
      },
      "outputs": [],
      "source": [
        "for category in (\"zero\", \"one\",\"two\"):\n",
        "  os.makedirs(\"//home/gabriel/Desktop/msds696/val/\" + category)\n",
        "  files = os.listdir(\"//home/gabriel/Desktop/msds696/train/\" + category)\n",
        "  np.random.shuffle(files)\n",
        "  num_val_samples = int(0.2*len(files))\n",
        "  val_files = files[-num_val_samples:]\n",
        "  for fname in val_files:\n",
        "    shutil.move(\"//home/gabriel/Desktop/msds696/train/\" + category + \"/\" + fname,\n",
        "                \"//home/gabriel/Desktop/msds696/val/\" + category + \"/\" + fname)"
      ]
    },
    {
      "cell_type": "code",
      "execution_count": null,
      "metadata": {
        "colab": {
          "base_uri": "https://localhost:8080/"
        },
        "id": "N4qguRueTA6N",
        "outputId": "d5fa2cc4-22fb-4170-a537-c7e5a6903ee2"
      },
      "outputs": [
        {
          "name": "stdout",
          "output_type": "stream",
          "text": [
            "80\n",
            "80\n",
            "80\n",
            "20\n",
            "20\n",
            "20\n",
            "100\n",
            "100\n",
            "100\n"
          ]
        }
      ],
      "source": [
        "# Check the number of files in each class dirrectory\n",
        "print(len(os.listdir(\"//home/gabriel/Desktop/msds696/train/zero\")))\n",
        "print(len(os.listdir(\"//home/gabriel/Desktop/msds696/train/one\")))\n",
        "print(len(os.listdir(\"//home/gabriel/Desktop/msds696/train/two\")))\n",
        "print(len(os.listdir(\"//home/gabriel/Desktop/msds696/val/zero\")))\n",
        "print(len(os.listdir(\"//home/gabriel/Desktop/msds696/val/one\")))\n",
        "print(len(os.listdir(\"//home/gabriel/Desktop/msds696/val/two\")))\n",
        "print(len(os.listdir(\"//home/gabriel/Desktop/msds696/test/zero\")))\n",
        "print(len(os.listdir(\"//home/gabriel/Desktop/msds696/test/one\")))\n",
        "print(len(os.listdir(\"//home/gabriel/Desktop/msds696/test/two\")))"
      ]
    },
    {
      "cell_type": "code",
      "execution_count": null,
      "metadata": {
        "id": "VdGHDSAPVGpG"
      },
      "outputs": [],
      "source": [
        "train_datagen = ImageDataGenerator(rescale=1./255)\n",
        "test_datagen = ImageDataGenerator(rescale=1./255)"
      ]
    },
    {
      "cell_type": "code",
      "execution_count": null,
      "metadata": {
        "id": "zPOlFlVKVOse",
        "outputId": "50361ea3-8fe6-436f-ac3f-b16826429d68"
      },
      "outputs": [
        {
          "name": "stdout",
          "output_type": "stream",
          "text": [
            "Found 240 images belonging to 3 classes.\n",
            "Found 60 images belonging to 3 classes.\n",
            "Found 300 images belonging to 3 classes.\n"
          ]
        }
      ],
      "source": [
        "train_generator = train_datagen.flow_from_directory(\n",
        "    train_dir, # The directory where the train data is located\n",
        "    target_size=(150, 150), # Reshape the image to 150 by 150 pixels. This is important because it makes sure all images are the same size.\n",
        "    batch_size=20, # We will take images in batches of 20.\n",
        "    class_mode='categorical') # The classification is binary.\n",
        "\n",
        "validation_generator = train_datagen.flow_from_directory(\n",
        "    val_dir,\n",
        "    target_size=(150, 150),\n",
        "    batch_size=20,\n",
        "    class_mode='categorical')\n",
        "\n",
        "test_generator = test_datagen.flow_from_directory(\n",
        "    test_dir,\n",
        "    target_size=(150, 150),\n",
        "    batch_size=20,\n",
        "    class_mode='categorical')"
      ]
    },
    {
      "cell_type": "code",
      "execution_count": null,
      "metadata": {
        "id": "HsKuLf-PWZTa"
      },
      "outputs": [],
      "source": [
        "# Build a plotting function\n",
        "def plot_history(history):\n",
        "  history_dict = history.history\n",
        "  loss_values = history_dict['loss']\n",
        "  val_loss_values = history_dict['val_loss']\n",
        "  acc_values = history_dict['categorical_accuracy']\n",
        "  val_acc_values = history_dict['val_categorical_accuracy']\n",
        "  epochs = range(1, len(history_dict['categorical_accuracy']) + 1)\n",
        "\n",
        "  plt.plot(epochs, loss_values, 'bo', label = 'Training loss')\n",
        "  plt.plot(epochs, val_loss_values, 'b', label = 'Validation loss')\n",
        "  plt.title('Training and validation loss')\n",
        "  plt.xlabel('Epochs')\n",
        "  plt.ylabel('Loss')\n",
        "  plt.legend()\n",
        "  plt.show()\n",
        "\n",
        "  plt.plot(epochs, acc_values, 'bo', label = 'Training accuracy')\n",
        "  plt.plot(epochs, val_acc_values, 'b', label = 'Validation accuracy')\n",
        "  plt.title('Training and validation accuracy')\n",
        "  plt.xlabel('Epochs')\n",
        "  plt.ylabel('_categorical_Accuracy')\n",
        "  plt.legend()\n",
        "  return plt.show()"
      ]
    },
    {
      "cell_type": "code",
      "execution_count": null,
      "metadata": {
        "id": "abNft9iZWdQk"
      },
      "outputs": [],
      "source": [
        "# Build a model\n",
        "def Base_CNN():\n",
        "  backend.clear_session()\n",
        "  model = models.Sequential()\n",
        "\n",
        "  model.add(layers.Conv2D(32, (3,3), activation = 'relu', input_shape = (150, 150, 3)))\n",
        "  model.add(layers.MaxPool2D((2,2)))\n",
        "  model.add(layers.BatchNormalization())\n",
        "\n",
        "  model.add(layers.Conv2D(32, (3,3), activation = 'relu'))\n",
        "  model.add(layers.MaxPool2D((2,2)))\n",
        "  model.add(layers.BatchNormalization())\n",
        "\n",
        "  model.add(layers.Conv2D(32, (3,3), activation = 'relu'))\n",
        "  model.add(layers.MaxPool2D((2,2)))\n",
        "  model.add(layers.BatchNormalization())\n",
        "\n",
        "  model.add(layers.Flatten())\n",
        "  model.add(layers.Dense(64, activation='relu'))\n",
        "  model.add(layers.Dropout(0.5))\n",
        "\n",
        "  model.add(layers.Dense(3, activation='softmax'))\n",
        "\n",
        "  model.compile(optimizer = 'rmsprop',\n",
        "                loss = 'categorical_crossentropy',\n",
        "                metrics = ['categorical_accuracy'])\n",
        "  return model"
      ]
    },
    {
      "cell_type": "code",
      "execution_count": null,
      "metadata": {
        "id": "MAOXsGnOWiPf",
        "outputId": "5ff5b47d-0e97-4a48-c5b7-0bcbf9963e97"
      },
      "outputs": [
        {
          "name": "stderr",
          "output_type": "stream",
          "text": [
            "/home/gabriel/.local/lib/python3.10/site-packages/keras/src/layers/convolutional/base_conv.py:107: UserWarning: Do not pass an `input_shape`/`input_dim` argument to a layer. When using Sequential models, prefer using an `Input(shape)` object as the first layer in the model instead.\n",
            "  super().__init__(activity_regularizer=activity_regularizer, **kwargs)\n"
          ]
        }
      ],
      "source": [
        "model = Base_CNN()"
      ]
    },
    {
      "cell_type": "code",
      "execution_count": null,
      "metadata": {
        "id": "CmndDHpmWjE7",
        "outputId": "e2249d37-fa5b-4c00-ed00-dd2bb6c89eac"
      },
      "outputs": [
        {
          "name": "stdout",
          "output_type": "stream",
          "text": [
            "Epoch 1/50\n"
          ]
        },
        {
          "name": "stderr",
          "output_type": "stream",
          "text": [
            "/home/gabriel/.local/lib/python3.10/site-packages/keras/src/trainers/data_adapters/py_dataset_adapter.py:121: UserWarning: Your `PyDataset` class should call `super().__init__(**kwargs)` in its constructor. `**kwargs` can include `workers`, `use_multiprocessing`, `max_queue_size`. Do not pass these arguments to `fit()`, as they will be ignored.\n",
            "  self._warn_if_super_not_called()\n"
          ]
        },
        {
          "name": "stdout",
          "output_type": "stream",
          "text": [
            "\u001b[1m10/10\u001b[0m \u001b[32m━━━━━━━━━━━━━━━━━━━━\u001b[0m\u001b[37m\u001b[0m \u001b[1m3s\u001b[0m 206ms/step - categorical_accuracy: 0.7834 - loss: 0.9047 - val_categorical_accuracy: 0.3333 - val_loss: 1.0624\n",
            "Epoch 2/50\n",
            "\u001b[1m 1/10\u001b[0m \u001b[32m━━\u001b[0m\u001b[37m━━━━━━━━━━━━━━━━━━\u001b[0m \u001b[1m1s\u001b[0m 146ms/step - categorical_accuracy: 1.0000 - loss: 5.7144e-04"
          ]
        },
        {
          "name": "stderr",
          "output_type": "stream",
          "text": [
            "2024-08-17 14:34:02.758005: I tensorflow/core/framework/local_rendezvous.cc:404] Local rendezvous is aborting with status: OUT_OF_RANGE: End of sequence\n",
            "\t [[{{node IteratorGetNext}}]]\n",
            "/usr/lib/python3.10/contextlib.py:153: UserWarning: Your input ran out of data; interrupting training. Make sure that your dataset or generator can generate at least `steps_per_epoch * epochs` batches. You may need to use the `.repeat()` function when building your dataset.\n",
            "  self.gen.throw(typ, value, traceback)\n",
            "/home/gabriel/.local/lib/python3.10/site-packages/keras/src/callbacks/early_stopping.py:155: UserWarning: Early stopping conditioned on metric `val_accuracy` which is not available. Available metrics are: categorical_accuracy,loss,val_categorical_accuracy,val_loss\n",
            "  current = self.get_monitor_value(logs)\n"
          ]
        },
        {
          "name": "stdout",
          "output_type": "stream",
          "text": [
            "\u001b[1m10/10\u001b[0m \u001b[32m━━━━━━━━━━━━━━━━━━━━\u001b[0m\u001b[37m\u001b[0m \u001b[1m1s\u001b[0m 44ms/step - categorical_accuracy: 1.0000 - loss: 3.1780e-04 - val_categorical_accuracy: 0.3333 - val_loss: 1.1139\n",
            "Epoch 3/50\n"
          ]
        },
        {
          "name": "stderr",
          "output_type": "stream",
          "text": [
            "2024-08-17 14:34:03.150780: I tensorflow/core/framework/local_rendezvous.cc:404] Local rendezvous is aborting with status: OUT_OF_RANGE: End of sequence\n",
            "\t [[{{node IteratorGetNext}}]]\n"
          ]
        },
        {
          "name": "stdout",
          "output_type": "stream",
          "text": [
            "\u001b[1m10/10\u001b[0m \u001b[32m━━━━━━━━━━━━━━━━━━━━\u001b[0m\u001b[37m\u001b[0m \u001b[1m2s\u001b[0m 192ms/step - categorical_accuracy: 1.0000 - loss: 2.5858e-04 - val_categorical_accuracy: 0.3333 - val_loss: 1.4778\n",
            "Epoch 4/50\n",
            "\u001b[1m 1/10\u001b[0m \u001b[32m━━\u001b[0m\u001b[37m━━━━━━━━━━━━━━━━━━\u001b[0m \u001b[1m1s\u001b[0m 171ms/step - categorical_accuracy: 1.0000 - loss: 0.0138"
          ]
        },
        {
          "name": "stderr",
          "output_type": "stream",
          "text": [
            "2024-08-17 14:34:05.332686: I tensorflow/core/framework/local_rendezvous.cc:404] Local rendezvous is aborting with status: OUT_OF_RANGE: End of sequence\n",
            "\t [[{{node IteratorGetNext}}]]\n"
          ]
        },
        {
          "name": "stdout",
          "output_type": "stream",
          "text": [
            "\u001b[1m10/10\u001b[0m \u001b[32m━━━━━━━━━━━━━━━━━━━━\u001b[0m\u001b[37m\u001b[0m \u001b[1m1s\u001b[0m 42ms/step - categorical_accuracy: 1.0000 - loss: 0.0077 - val_categorical_accuracy: 0.3333 - val_loss: 1.5752\n",
            "Epoch 5/50\n",
            "\u001b[1m10/10\u001b[0m \u001b[32m━━━━━━━━━━━━━━━━━━━━\u001b[0m\u001b[37m\u001b[0m \u001b[1m2s\u001b[0m 180ms/step - categorical_accuracy: 0.9897 - loss: 0.0323 - val_categorical_accuracy: 0.3333 - val_loss: 1.9865\n",
            "Epoch 6/50\n",
            "\u001b[1m10/10\u001b[0m \u001b[32m━━━━━━━━━━━━━━━━━━━━\u001b[0m\u001b[37m\u001b[0m \u001b[1m1s\u001b[0m 36ms/step - categorical_accuracy: 1.0000 - loss: 2.8964e-06 - val_categorical_accuracy: 0.3333 - val_loss: 2.0890\n",
            "Epoch 7/50\n"
          ]
        },
        {
          "name": "stderr",
          "output_type": "stream",
          "text": [
            "2024-08-17 14:34:08.163738: I tensorflow/core/framework/local_rendezvous.cc:404] Local rendezvous is aborting with status: OUT_OF_RANGE: End of sequence\n",
            "\t [[{{node IteratorGetNext}}]]\n"
          ]
        },
        {
          "name": "stdout",
          "output_type": "stream",
          "text": [
            "\u001b[1m10/10\u001b[0m \u001b[32m━━━━━━━━━━━━━━━━━━━━\u001b[0m\u001b[37m\u001b[0m \u001b[1m2s\u001b[0m 170ms/step - categorical_accuracy: 1.0000 - loss: 9.9666e-04 - val_categorical_accuracy: 0.3333 - val_loss: 2.6713\n",
            "Epoch 8/50\n",
            "\u001b[1m10/10\u001b[0m \u001b[32m━━━━━━━━━━━━━━━━━━━━\u001b[0m\u001b[37m\u001b[0m \u001b[1m0s\u001b[0m 30ms/step - categorical_accuracy: 1.0000 - loss: 8.7248e-06 - val_categorical_accuracy: 0.3333 - val_loss: 2.7740\n",
            "Epoch 9/50\n",
            "\u001b[1m10/10\u001b[0m \u001b[32m━━━━━━━━━━━━━━━━━━━━\u001b[0m\u001b[37m\u001b[0m \u001b[1m2s\u001b[0m 178ms/step - categorical_accuracy: 1.0000 - loss: 6.9982e-04 - val_categorical_accuracy: 0.3333 - val_loss: 3.3063\n",
            "Epoch 10/50\n",
            "\u001b[1m10/10\u001b[0m \u001b[32m━━━━━━━━━━━━━━━━━━━━\u001b[0m\u001b[37m\u001b[0m \u001b[1m0s\u001b[0m 30ms/step - categorical_accuracy: 1.0000 - loss: 8.5580e-06 - val_categorical_accuracy: 0.3333 - val_loss: 3.4027\n",
            "Epoch 11/50\n",
            "\u001b[1m10/10\u001b[0m \u001b[32m━━━━━━━━━━━━━━━━━━━━\u001b[0m\u001b[37m\u001b[0m \u001b[1m2s\u001b[0m 160ms/step - categorical_accuracy: 1.0000 - loss: 5.1281e-05 - val_categorical_accuracy: 0.3333 - val_loss: 3.8758\n",
            "Epoch 12/50\n",
            "\u001b[1m 1/10\u001b[0m \u001b[32m━━\u001b[0m\u001b[37m━━━━━━━━━━━━━━━━━━\u001b[0m \u001b[1m1s\u001b[0m 188ms/step - categorical_accuracy: 1.0000 - loss: 8.3454e-04"
          ]
        },
        {
          "name": "stderr",
          "output_type": "stream",
          "text": [
            "2024-08-17 14:34:14.399380: I tensorflow/core/framework/local_rendezvous.cc:404] Local rendezvous is aborting with status: OUT_OF_RANGE: End of sequence\n",
            "\t [[{{node IteratorGetNext}}]]\n"
          ]
        },
        {
          "name": "stdout",
          "output_type": "stream",
          "text": [
            "\u001b[1m10/10\u001b[0m \u001b[32m━━━━━━━━━━━━━━━━━━━━\u001b[0m\u001b[37m\u001b[0m \u001b[1m0s\u001b[0m 35ms/step - categorical_accuracy: 1.0000 - loss: 4.5900e-04 - val_categorical_accuracy: 0.3333 - val_loss: 3.9842\n",
            "Epoch 13/50\n",
            "\u001b[1m10/10\u001b[0m \u001b[32m━━━━━━━━━━━━━━━━━━━━\u001b[0m\u001b[37m\u001b[0m \u001b[1m2s\u001b[0m 188ms/step - categorical_accuracy: 1.0000 - loss: 1.9419e-04 - val_categorical_accuracy: 0.3333 - val_loss: 4.5089\n",
            "Epoch 14/50\n",
            "\u001b[1m10/10\u001b[0m \u001b[32m━━━━━━━━━━━━━━━━━━━━\u001b[0m\u001b[37m\u001b[0m \u001b[1m0s\u001b[0m 29ms/step - categorical_accuracy: 0.9775 - loss: 0.0166 - val_categorical_accuracy: 0.3333 - val_loss: 4.6995\n",
            "Epoch 15/50\n",
            "\u001b[1m10/10\u001b[0m \u001b[32m━━━━━━━━━━━━━━━━━━━━\u001b[0m\u001b[37m\u001b[0m \u001b[1m2s\u001b[0m 181ms/step - categorical_accuracy: 1.0000 - loss: 1.0614e-04 - val_categorical_accuracy: 0.3333 - val_loss: 5.1476\n",
            "Epoch 16/50\n",
            "\u001b[1m10/10\u001b[0m \u001b[32m━━━━━━━━━━━━━━━━━━━━\u001b[0m\u001b[37m\u001b[0m \u001b[1m0s\u001b[0m 30ms/step - categorical_accuracy: 0.9775 - loss: 0.0173 - val_categorical_accuracy: 0.3333 - val_loss: 5.2326\n",
            "Epoch 17/50\n",
            "\u001b[1m10/10\u001b[0m \u001b[32m━━━━━━━━━━━━━━━━━━━━\u001b[0m\u001b[37m\u001b[0m \u001b[1m2s\u001b[0m 162ms/step - categorical_accuracy: 1.0000 - loss: 5.9714e-04 - val_categorical_accuracy: 0.3333 - val_loss: 5.8722\n",
            "Epoch 18/50\n",
            "\u001b[1m10/10\u001b[0m \u001b[32m━━━━━━━━━━━━━━━━━━━━\u001b[0m\u001b[37m\u001b[0m \u001b[1m0s\u001b[0m 32ms/step - categorical_accuracy: 1.0000 - loss: 5.4871e-04 - val_categorical_accuracy: 0.3333 - val_loss: 5.9051\n",
            "Epoch 19/50\n",
            "\u001b[1m10/10\u001b[0m \u001b[32m━━━━━━━━━━━━━━━━━━━━\u001b[0m\u001b[37m\u001b[0m \u001b[1m2s\u001b[0m 162ms/step - categorical_accuracy: 0.9986 - loss: 0.0030 - val_categorical_accuracy: 0.3333 - val_loss: 7.6265\n",
            "Epoch 20/50\n",
            "\u001b[1m10/10\u001b[0m \u001b[32m━━━━━━━━━━━━━━━━━━━━\u001b[0m\u001b[37m\u001b[0m \u001b[1m0s\u001b[0m 33ms/step - categorical_accuracy: 1.0000 - loss: 1.4389e-04 - val_categorical_accuracy: 0.3333 - val_loss: 7.6861\n",
            "Epoch 21/50\n",
            "\u001b[1m10/10\u001b[0m \u001b[32m━━━━━━━━━━━━━━━━━━━━\u001b[0m\u001b[37m\u001b[0m \u001b[1m2s\u001b[0m 179ms/step - categorical_accuracy: 1.0000 - loss: 7.7333e-05 - val_categorical_accuracy: 0.3333 - val_loss: 8.0643\n",
            "Epoch 22/50\n",
            "\u001b[1m10/10\u001b[0m \u001b[32m━━━━━━━━━━━━━━━━━━━━\u001b[0m\u001b[37m\u001b[0m \u001b[1m0s\u001b[0m 30ms/step - categorical_accuracy: 1.0000 - loss: 0.0000e+00 - val_categorical_accuracy: 0.3333 - val_loss: 8.1249\n",
            "Epoch 23/50\n"
          ]
        },
        {
          "name": "stderr",
          "output_type": "stream",
          "text": [
            "2024-08-17 14:34:25.947780: I tensorflow/core/framework/local_rendezvous.cc:404] Local rendezvous is aborting with status: OUT_OF_RANGE: End of sequence\n",
            "\t [[{{node IteratorGetNext}}]]\n"
          ]
        },
        {
          "name": "stdout",
          "output_type": "stream",
          "text": [
            "\u001b[1m10/10\u001b[0m \u001b[32m━━━━━━━━━━━━━━━━━━━━\u001b[0m\u001b[37m\u001b[0m \u001b[1m2s\u001b[0m 157ms/step - categorical_accuracy: 1.0000 - loss: 2.8857e-05 - val_categorical_accuracy: 0.3333 - val_loss: 8.4482\n",
            "Epoch 24/50\n",
            "\u001b[1m10/10\u001b[0m \u001b[32m━━━━━━━━━━━━━━━━━━━━\u001b[0m\u001b[37m\u001b[0m \u001b[1m0s\u001b[0m 30ms/step - categorical_accuracy: 1.0000 - loss: 2.8282e-07 - val_categorical_accuracy: 0.3333 - val_loss: 8.5018\n",
            "Epoch 25/50\n",
            "\u001b[1m10/10\u001b[0m \u001b[32m━━━━━━━━━━━━━━━━━━━━\u001b[0m\u001b[37m\u001b[0m \u001b[1m2s\u001b[0m 183ms/step - categorical_accuracy: 1.0000 - loss: 4.0203e-04 - val_categorical_accuracy: 0.3333 - val_loss: 9.0561\n",
            "Epoch 26/50\n",
            "\u001b[1m10/10\u001b[0m \u001b[32m━━━━━━━━━━━━━━━━━━━━\u001b[0m\u001b[37m\u001b[0m \u001b[1m0s\u001b[0m 28ms/step - categorical_accuracy: 1.0000 - loss: 1.1802e-07 - val_categorical_accuracy: 0.3333 - val_loss: 9.1098\n",
            "Epoch 27/50\n",
            "\u001b[1m10/10\u001b[0m \u001b[32m━━━━━━━━━━━━━━━━━━━━\u001b[0m\u001b[37m\u001b[0m \u001b[1m2s\u001b[0m 164ms/step - categorical_accuracy: 1.0000 - loss: 9.4994e-08 - val_categorical_accuracy: 0.3333 - val_loss: 9.3587\n",
            "Epoch 28/50\n",
            "\u001b[1m10/10\u001b[0m \u001b[32m━━━━━━━━━━━━━━━━━━━━\u001b[0m\u001b[37m\u001b[0m \u001b[1m0s\u001b[0m 31ms/step - categorical_accuracy: 1.0000 - loss: 0.0000e+00 - val_categorical_accuracy: 0.3333 - val_loss: 9.4041\n",
            "Epoch 29/50\n",
            "\u001b[1m10/10\u001b[0m \u001b[32m━━━━━━━━━━━━━━━━━━━━\u001b[0m\u001b[37m\u001b[0m \u001b[1m2s\u001b[0m 201ms/step - categorical_accuracy: 1.0000 - loss: 8.8165e-08 - val_categorical_accuracy: 0.3333 - val_loss: 9.6213\n",
            "Epoch 30/50\n",
            "\u001b[1m10/10\u001b[0m \u001b[32m━━━━━━━━━━━━━━━━━━━━\u001b[0m\u001b[37m\u001b[0m \u001b[1m0s\u001b[0m 32ms/step - categorical_accuracy: 1.0000 - loss: 1.7800e-04 - val_categorical_accuracy: 0.3333 - val_loss: 9.2795\n",
            "Epoch 31/50\n",
            "\u001b[1m10/10\u001b[0m \u001b[32m━━━━━━━━━━━━━━━━━━━━\u001b[0m\u001b[37m\u001b[0m \u001b[1m2s\u001b[0m 177ms/step - categorical_accuracy: 1.0000 - loss: 8.4235e-07 - val_categorical_accuracy: 0.3333 - val_loss: 9.4421\n",
            "Epoch 32/50\n",
            "\u001b[1m10/10\u001b[0m \u001b[32m━━━━━━━━━━━━━━━━━━━━\u001b[0m\u001b[37m\u001b[0m \u001b[1m0s\u001b[0m 30ms/step - categorical_accuracy: 1.0000 - loss: 2.6226e-08 - val_categorical_accuracy: 0.3333 - val_loss: 9.4691\n",
            "Epoch 33/50\n",
            "\u001b[1m10/10\u001b[0m \u001b[32m━━━━━━━━━━━━━━━━━━━━\u001b[0m\u001b[37m\u001b[0m \u001b[1m2s\u001b[0m 172ms/step - categorical_accuracy: 1.0000 - loss: 1.6346e-06 - val_categorical_accuracy: 0.3333 - val_loss: 9.6374\n",
            "Epoch 34/50\n",
            "\u001b[1m10/10\u001b[0m \u001b[32m━━━━━━━━━━━━━━━━━━━━\u001b[0m\u001b[37m\u001b[0m \u001b[1m0s\u001b[0m 31ms/step - categorical_accuracy: 1.0000 - loss: 5.0137e-06 - val_categorical_accuracy: 0.3333 - val_loss: 9.6848\n",
            "Epoch 35/50\n",
            "\u001b[1m10/10\u001b[0m \u001b[32m━━━━━━━━━━━━━━━━━━━━\u001b[0m\u001b[37m\u001b[0m \u001b[1m2s\u001b[0m 168ms/step - categorical_accuracy: 1.0000 - loss: 1.3840e-07 - val_categorical_accuracy: 0.3333 - val_loss: 9.7928\n",
            "Epoch 36/50\n",
            "\u001b[1m10/10\u001b[0m \u001b[32m━━━━━━━━━━━━━━━━━━━━\u001b[0m\u001b[37m\u001b[0m \u001b[1m0s\u001b[0m 31ms/step - categorical_accuracy: 1.0000 - loss: 5.5730e-08 - val_categorical_accuracy: 0.3333 - val_loss: 9.8101\n",
            "Epoch 37/50\n",
            "\u001b[1m10/10\u001b[0m \u001b[32m━━━━━━━━━━━━━━━━━━━━\u001b[0m\u001b[37m\u001b[0m \u001b[1m2s\u001b[0m 166ms/step - categorical_accuracy: 1.0000 - loss: 2.8458e-08 - val_categorical_accuracy: 0.3333 - val_loss: 9.8847\n",
            "Epoch 38/50\n",
            "\u001b[1m10/10\u001b[0m \u001b[32m━━━━━━━━━━━━━━━━━━━━\u001b[0m\u001b[37m\u001b[0m \u001b[1m1s\u001b[0m 46ms/step - categorical_accuracy: 1.0000 - loss: 6.5565e-09 - val_categorical_accuracy: 0.3333 - val_loss: 9.8967\n",
            "Epoch 39/50\n",
            "\u001b[1m10/10\u001b[0m \u001b[32m━━━━━━━━━━━━━━━━━━━━\u001b[0m\u001b[37m\u001b[0m \u001b[1m2s\u001b[0m 174ms/step - categorical_accuracy: 1.0000 - loss: 7.6577e-05 - val_categorical_accuracy: 0.3333 - val_loss: 9.5450\n",
            "Epoch 40/50\n",
            "\u001b[1m10/10\u001b[0m \u001b[32m━━━━━━━━━━━━━━━━━━━━\u001b[0m\u001b[37m\u001b[0m \u001b[1m0s\u001b[0m 28ms/step - categorical_accuracy: 1.0000 - loss: 1.6391e-08 - val_categorical_accuracy: 0.3333 - val_loss: 9.5565\n",
            "Epoch 41/50\n",
            "\u001b[1m10/10\u001b[0m \u001b[32m━━━━━━━━━━━━━━━━━━━━\u001b[0m\u001b[37m\u001b[0m \u001b[1m2s\u001b[0m 169ms/step - categorical_accuracy: 1.0000 - loss: 8.1896e-07 - val_categorical_accuracy: 0.3333 - val_loss: 9.5888\n",
            "Epoch 42/50\n",
            "\u001b[1m10/10\u001b[0m \u001b[32m━━━━━━━━━━━━━━━━━━━━\u001b[0m\u001b[37m\u001b[0m \u001b[1m0s\u001b[0m 29ms/step - categorical_accuracy: 1.0000 - loss: 2.3812e-07 - val_categorical_accuracy: 0.3333 - val_loss: 9.5979\n",
            "Epoch 43/50\n",
            "\u001b[1m10/10\u001b[0m \u001b[32m━━━━━━━━━━━━━━━━━━━━\u001b[0m\u001b[37m\u001b[0m \u001b[1m2s\u001b[0m 172ms/step - categorical_accuracy: 1.0000 - loss: 1.2254e-04 - val_categorical_accuracy: 0.3333 - val_loss: 9.8784\n",
            "Epoch 44/50\n",
            "\u001b[1m 1/10\u001b[0m \u001b[32m━━\u001b[0m\u001b[37m━━━━━━━━━━━━━━━━━━\u001b[0m \u001b[1m1s\u001b[0m 177ms/step - categorical_accuracy: 1.0000 - loss: 2.8948e-05"
          ]
        },
        {
          "name": "stderr",
          "output_type": "stream",
          "text": [
            "2024-08-17 14:34:50.254557: I tensorflow/core/framework/local_rendezvous.cc:404] Local rendezvous is aborting with status: OUT_OF_RANGE: End of sequence\n",
            "\t [[{{node IteratorGetNext}}]]\n"
          ]
        },
        {
          "name": "stdout",
          "output_type": "stream",
          "text": [
            "\u001b[1m10/10\u001b[0m \u001b[32m━━━━━━━━━━━━━━━━━━━━\u001b[0m\u001b[37m\u001b[0m \u001b[1m1s\u001b[0m 37ms/step - categorical_accuracy: 1.0000 - loss: 1.5927e-05 - val_categorical_accuracy: 0.3333 - val_loss: 9.9433\n",
            "Epoch 45/50\n",
            "\u001b[1m10/10\u001b[0m \u001b[32m━━━━━━━━━━━━━━━━━━━━\u001b[0m\u001b[37m\u001b[0m \u001b[1m2s\u001b[0m 184ms/step - categorical_accuracy: 1.0000 - loss: 1.5748e-04 - val_categorical_accuracy: 0.3333 - val_loss: 11.8011\n",
            "Epoch 46/50\n",
            "\u001b[1m10/10\u001b[0m \u001b[32m━━━━━━━━━━━━━━━━━━━━\u001b[0m\u001b[37m\u001b[0m \u001b[1m0s\u001b[0m 31ms/step - categorical_accuracy: 1.0000 - loss: 5.9363e-06 - val_categorical_accuracy: 0.3333 - val_loss: 11.7840\n",
            "Epoch 47/50\n",
            "\u001b[1m10/10\u001b[0m \u001b[32m━━━━━━━━━━━━━━━━━━━━\u001b[0m\u001b[37m\u001b[0m \u001b[1m2s\u001b[0m 175ms/step - categorical_accuracy: 1.0000 - loss: 5.5784e-05 - val_categorical_accuracy: 0.3333 - val_loss: 11.9839\n",
            "Epoch 48/50\n",
            "\u001b[1m10/10\u001b[0m \u001b[32m━━━━━━━━━━━━━━━━━━━━\u001b[0m\u001b[37m\u001b[0m \u001b[1m0s\u001b[0m 31ms/step - categorical_accuracy: 1.0000 - loss: 0.0000e+00 - val_categorical_accuracy: 0.3333 - val_loss: 11.9814\n",
            "Epoch 49/50\n",
            "\u001b[1m10/10\u001b[0m \u001b[32m━━━━━━━━━━━━━━━━━━━━\u001b[0m\u001b[37m\u001b[0m \u001b[1m2s\u001b[0m 179ms/step - categorical_accuracy: 1.0000 - loss: 6.4787e-10 - val_categorical_accuracy: 0.3333 - val_loss: 11.9435\n",
            "Epoch 50/50\n",
            "\u001b[1m10/10\u001b[0m \u001b[32m━━━━━━━━━━━━━━━━━━━━\u001b[0m\u001b[37m\u001b[0m \u001b[1m0s\u001b[0m 30ms/step - categorical_accuracy: 1.0000 - loss: 2.6822e-09 - val_categorical_accuracy: 0.3333 - val_loss: 11.9348\n"
          ]
        },
        {
          "data": {
            "image/png": "[encoded data removed]",
            "text/plain": [
              "<Figure size 640x480 with 1 Axes>"
            ]
          },
          "metadata": {},
          "output_type": "display_data"
        },
        {
          "data": {
            "image/png": "[encoded data removed]",
            "text/plain": [
              "<Figure size 640x480 with 1 Axes>"
            ]
          },
          "metadata": {},
          "output_type": "display_data"
        },
        {
          "name": "stdout",
          "output_type": "stream",
          "text": [
            "\u001b[1m50/50\u001b[0m \u001b[32m━━━━━━━━━━━━━━━━━━━━\u001b[0m\u001b[37m\u001b[0m \u001b[1m1s\u001b[0m 12ms/step - categorical_accuracy: 0.3357 - loss: 11.8921\n"
          ]
        },
        {
          "name": "stderr",
          "output_type": "stream",
          "text": [
            "WARNING:absl:You are saving your model as an HDF5 file via `model.save()` or `keras.saving.save_model(model)`. This file format is considered legacy. We recommend using instead the native Keras format, e.g. `model.save('my_model.keras')` or `keras.saving.save_model(model, 'my_model.keras')`. \n"
          ]
        },
        {
          "name": "stdout",
          "output_type": "stream",
          "text": [
            "test_acc: 0.3333333432674408\n"
          ]
        }
      ],
      "source": [
        "history = model.fit( # The image data must come from the image generator that takes the images from the correct dirrectory. https://keras.io/models/sequential/\n",
        "    train_generator, # Images are taken from the train_generator\n",
        "    steps_per_epoch=10, # The number of steps from the train_generator before one epoch if finished.\n",
        "                         # 100 steps * 20 batch size in train generator = 2000 training images per epoch. This way each traning image will be sampled once per epoch.\n",
        "    epochs=50, # Train data for 50 epochs\n",
        "    validation_data=validation_generator, # Take data from the validataion generator\n",
        "    validation_steps=50, # 50 steps * 20 batch size in validation generator = 1000 validation images per epoch\n",
        "    verbose = 1,\n",
        "    callbacks=[EarlyStopping(monitor='val_accuracy',mode='max', patience=3, restore_best_weights = True)]) # We will not use call backs to stop early.\n",
        "\n",
        "plot_history(history) # Use our plot function to plot the loss and accuracy.\n",
        "\n",
        "test_loss, test_acc =model.evaluate(test_generator, steps = 50) # Test images are in a dirrectory so they must flow from dirrectory.\n",
        "                                                                           # 50 steps * 20 batch size in test generator = 1000 test images per epoch\n",
        "print('test_acc:', test_acc)\n",
        "\n",
        "model.save('phm_pic_base.h5')"
      ]
    }
  ],
  "metadata": {
    "colab": {
      "provenance": []
    },
    "kernelspec": {
      "display_name": "Python 3 (ipykernel)",
      "language": "python",
      "name": "python3"
    },
    "language_info": {
      "codemirror_mode": {
        "name": "ipython",
        "version": 3
      },
      "file_extension": ".py",
      "mimetype": "text/x-python",
      "name": "python",
      "nbconvert_exporter": "python",
      "pygments_lexer": "ipython3",
      "version": "3.10.12"
    }
  },
  "nbformat": 4,
  "nbformat_minor": 0
}