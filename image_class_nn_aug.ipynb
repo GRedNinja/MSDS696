{
  "cells": [
    {
      "cell_type": "code",
      "execution_count": null,
      "metadata": {
        "id": "6loKUlyR5pWI",
        "outputId": "6f863061-1f61-46a8-f8a4-6948d23257dc"
      },
      "outputs": [
        {
          "name": "stderr",
          "output_type": "stream",
          "text": [
            "2024-08-17 14:47:31.601822: E external/local_xla/xla/stream_executor/cuda/cuda_fft.cc:485] Unable to register cuFFT factory: Attempting to register factory for plugin cuFFT when one has already been registered\n",
            "2024-08-17 14:47:31.619717: E external/local_xla/xla/stream_executor/cuda/cuda_dnn.cc:8454] Unable to register cuDNN factory: Attempting to register factory for plugin cuDNN when one has already been registered\n",
            "2024-08-17 14:47:31.623201: E external/local_xla/xla/stream_executor/cuda/cuda_blas.cc:1452] Unable to register cuBLAS factory: Attempting to register factory for plugin cuBLAS when one has already been registered\n",
            "2024-08-17 14:47:31.636014: I tensorflow/core/platform/cpu_feature_guard.cc:210] This TensorFlow binary is optimized to use available CPU instructions in performance-critical operations.\n",
            "To enable the following instructions: AVX2 FMA, in other operations, rebuild TensorFlow with the appropriate compiler flags.\n",
            "2024-08-17 14:47:32.238859: W tensorflow/compiler/tf2tensorrt/utils/py_utils.cc:38] TF-TRT Warning: Could not find TensorRT\n"
          ]
        }
      ],
      "source": [
        "import tensorflow as tf"
      ]
    },
    {
      "cell_type": "code",
      "execution_count": null,
      "metadata": {
        "id": "f_fc7lVg5pWK"
      },
      "outputs": [],
      "source": [
        "import warnings\n",
        "warnings.filterwarnings('ignore')"
      ]
    },
    {
      "cell_type": "code",
      "execution_count": null,
      "metadata": {
        "id": "SSUiX0IJ5pWL"
      },
      "outputs": [],
      "source": [
        "import pandas as pd\n",
        "import numpy as np\n",
        "#import cv2\n",
        "import matplotlib.pyplot as plt\n",
        "import os, shutil\n",
        "import matplotlib.pyplot as plt\n",
        "import numpy as np\n",
        "import os, shutil # Library for navigating files\n",
        "from keras import backend as K\n",
        "from keras import backend, models, layers, optimizers, regularizers\n",
        "from keras.utils import to_categorical\n",
        "from tensorflow.keras.models import Sequential\n",
        "from keras.callbacks import EarlyStopping\n",
        "from sklearn.model_selection import train_test_split\n",
        "from IPython.display import display # Library to help view images\n",
        "from PIL import Image # Library to help view images\n",
        "from tensorflow.keras.preprocessing.image import ImageDataGenerator# Library for data augmentation\n",
        "from keras.preprocessing import image\n",
        "\n",
        "np.random.seed(1)"
      ]
    },
    {
      "cell_type": "code",
      "execution_count": null,
      "metadata": {
        "id": "I9N10Gc3-4Py"
      },
      "outputs": [],
      "source": [
        "\n",
        "#from google.colab import drive  # Library to mount google drives\n",
        "#drive.mount('/content/gdrive')\n",
        "base_dir = '//home/gabriel/Desktop/msds696'\n",
        "train_dir = os.path.join(base_dir, 'train')\n",
        "val_dir = os.path.join(base_dir, 'val')\n",
        "test_dir = os.path.join(base_dir, 'test')"
      ]
    },
    {
      "cell_type": "code",
      "execution_count": null,
      "metadata": {
        "colab": {
          "base_uri": "https://localhost:8080/"
        },
        "id": "N4qguRueTA6N",
        "outputId": "d5fa2cc4-22fb-4170-a537-c7e5a6903ee2"
      },
      "outputs": [
        {
          "name": "stdout",
          "output_type": "stream",
          "text": [
            "80\n",
            "80\n",
            "80\n",
            "20\n",
            "20\n",
            "20\n",
            "100\n",
            "100\n",
            "100\n"
          ]
        }
      ],
      "source": [
        "# Check the number of files in each class dirrectory\n",
        "print(len(os.listdir(\"//home/gabriel/Desktop/msds696/train/zero\")))\n",
        "print(len(os.listdir(\"//home/gabriel/Desktop/msds696/train/one\")))\n",
        "print(len(os.listdir(\"//home/gabriel/Desktop/msds696/train/two\")))\n",
        "print(len(os.listdir(\"//home/gabriel/Desktop/msds696/val/zero\")))\n",
        "print(len(os.listdir(\"//home/gabriel/Desktop/msds696/val/one\")))\n",
        "print(len(os.listdir(\"//home/gabriel/Desktop/msds696/val/two\")))\n",
        "print(len(os.listdir(\"//home/gabriel/Desktop/msds696/test/zero\")))\n",
        "print(len(os.listdir(\"//home/gabriel/Desktop/msds696/test/one\")))\n",
        "print(len(os.listdir(\"//home/gabriel/Desktop/msds696/test/two\")))"
      ]
    },
    {
      "cell_type": "code",
      "execution_count": null,
      "metadata": {
        "id": "VdGHDSAPVGpG"
      },
      "outputs": [],
      "source": [
        "train_datagen = ImageDataGenerator(rescale=1./255)\n",
        "test_datagen = ImageDataGenerator(rescale=1./255)"
      ]
    },
    {
      "cell_type": "code",
      "execution_count": null,
      "metadata": {
        "id": "zPOlFlVKVOse",
        "outputId": "f273dabe-5d44-4dc1-c3d1-9ec7bcac5d13"
      },
      "outputs": [
        {
          "name": "stdout",
          "output_type": "stream",
          "text": [
            "Found 240 images belonging to 3 classes.\n",
            "Found 60 images belonging to 3 classes.\n",
            "Found 300 images belonging to 3 classes.\n"
          ]
        }
      ],
      "source": [
        "train_generator = train_datagen.flow_from_directory(\n",
        "    train_dir, # The directory where the train data is located\n",
        "    target_size=(150, 150), # Reshape the image to 150 by 150 pixels. This is important because it makes sure all images are the same size.\n",
        "    batch_size=20, # We will take images in batches of 20.\n",
        "    class_mode='categorical') # The classification is binary.\n",
        "\n",
        "validation_generator = train_datagen.flow_from_directory(\n",
        "    val_dir,\n",
        "    target_size=(150, 150),\n",
        "    batch_size=20,\n",
        "    class_mode='categorical')\n",
        "\n",
        "test_generator = test_datagen.flow_from_directory(\n",
        "    test_dir,\n",
        "    target_size=(150, 150),\n",
        "    batch_size=20,\n",
        "    class_mode='categorical')"
      ]
    },
    {
      "cell_type": "code",
      "execution_count": null,
      "metadata": {
        "id": "HsKuLf-PWZTa"
      },
      "outputs": [],
      "source": [
        "# Build a plotting function\n",
        "def plot_history(history):\n",
        "  history_dict = history.history\n",
        "  loss_values = history_dict['loss']\n",
        "  val_loss_values = history_dict['val_loss']\n",
        "  acc_values = history_dict['categorical_accuracy']\n",
        "  val_acc_values = history_dict['val_categorical_accuracy']\n",
        "  epochs = range(1, len(history_dict['categorical_accuracy']) + 1)\n",
        "\n",
        "  plt.plot(epochs, loss_values, 'bo', label = 'Training loss')\n",
        "  plt.plot(epochs, val_loss_values, 'b', label = 'Validation loss')\n",
        "  plt.title('Training and validation loss')\n",
        "  plt.xlabel('Epochs')\n",
        "  plt.ylabel('Loss')\n",
        "  plt.legend()\n",
        "  plt.show()\n",
        "\n",
        "  plt.plot(epochs, acc_values, 'bo', label = 'Training accuracy')\n",
        "  plt.plot(epochs, val_acc_values, 'b', label = 'Validation accuracy')\n",
        "  plt.title('Training and validation accuracy')\n",
        "  plt.xlabel('Epochs')\n",
        "  plt.ylabel('_categorical_Accuracy')\n",
        "  plt.legend()\n",
        "  return plt.show()"
      ]
    },
    {
      "cell_type": "code",
      "execution_count": null,
      "metadata": {
        "id": "u8PkeqWl5pWO",
        "outputId": "0559722c-9dad-4d12-9901-b607dc652c9f"
      },
      "outputs": [
        {
          "name": "stderr",
          "output_type": "stream",
          "text": [
            "2024-08-17 14:47:33.261780: E external/local_xla/xla/stream_executor/cuda/cuda_driver.cc:266] failed call to cuInit: CUDA_ERROR_SYSTEM_DRIVER_MISMATCH: system has unsupported display driver / cuda driver combination\n",
            "2024-08-17 14:47:33.261798: I external/local_xla/xla/stream_executor/cuda/cuda_diagnostics.cc:135] retrieving CUDA diagnostic information for host: gabriel-desktop\n",
            "2024-08-17 14:47:33.261803: I external/local_xla/xla/stream_executor/cuda/cuda_diagnostics.cc:142] hostname: gabriel-desktop\n",
            "2024-08-17 14:47:33.261877: I external/local_xla/xla/stream_executor/cuda/cuda_diagnostics.cc:166] libcuda reported version is: 550.90.7\n",
            "2024-08-17 14:47:33.261895: I external/local_xla/xla/stream_executor/cuda/cuda_diagnostics.cc:170] kernel reported version is: NOT_FOUND: could not find kernel module information in driver version file contents: \"NVRM version: NVIDIA UNIX Open Kernel Module for x86_64  555.42.02  Release Build  (dvs-builder@U16-I3-A03-02-4)  Mon May 13 17:10:33 UTC 2024\n",
            "GCC version:  gcc version 12.3.0 (Ubuntu 12.3.0-1ubuntu1~22.04) \n",
            "\"\n"
          ]
        }
      ],
      "source": [
        "data_augmentation = Sequential([\n",
        "  layers.RandomFlip(\"horizontal_and_vertical\"),\n",
        "  layers.RandomRotation(0.2),\n",
        "])\n"
      ]
    },
    {
      "cell_type": "code",
      "execution_count": null,
      "metadata": {
        "id": "abNft9iZWdQk"
      },
      "outputs": [],
      "source": [
        "# Build a model\n",
        "def Base_CNN():\n",
        "  backend.clear_session()\n",
        "  model = models.Sequential()\n",
        "\n",
        "  model.add(layers.Conv2D(32, (3,3), activation = 'relu', input_shape = (150, 150, 3)))\n",
        "  model.add(layers.MaxPool2D((2,2)))\n",
        "\n",
        "  model.add(layers.BatchNormalization())\n",
        "\n",
        "  model.add(layers.Conv2D(32, (3,3), activation = 'relu'))\n",
        "  model.add(layers.MaxPool2D((2,2)))\n",
        "\n",
        "  model.add(layers.BatchNormalization())\n",
        "\n",
        "  model.add(layers.Conv2D(32, (3,3), activation = 'relu'))\n",
        "  model.add(layers.MaxPool2D((2,2)))\n",
        "  model.add(layers.BatchNormalization())\n",
        "\n",
        "  model.add(layers.Flatten())\n",
        "  model.add(layers.Dense(64, activation='relu'))\n",
        "\n",
        "\n",
        "  model.add(layers.Dense(3, activation='softmax'))\n",
        "\n",
        "  model.compile(optimizer = 'rmsprop',\n",
        "                loss = 'categorical_crossentropy',\n",
        "                metrics = ['categorical_accuracy'])\n",
        "  return model"
      ]
    },
    {
      "cell_type": "code",
      "execution_count": null,
      "metadata": {
        "id": "MAOXsGnOWiPf"
      },
      "outputs": [],
      "source": [
        "model = Base_CNN()"
      ]
    },
    {
      "cell_type": "code",
      "execution_count": null,
      "metadata": {
        "id": "CmndDHpmWjE7",
        "outputId": "73af4b80-8a22-4907-e9df-85dd00aba752"
      },
      "outputs": [
        {
          "name": "stdout",
          "output_type": "stream",
          "text": [
            "Epoch 1/100\n",
            "\u001b[1m10/10\u001b[0m \u001b[32m━━━━━━━━━━━━━━━━━━━━\u001b[0m\u001b[37m\u001b[0m \u001b[1m3s\u001b[0m 179ms/step - categorical_accuracy: 0.6207 - loss: 1.4270 - val_categorical_accuracy: 0.6667 - val_loss: 0.8078\n",
            "Epoch 2/100\n",
            "\u001b[1m 1/10\u001b[0m \u001b[32m━━\u001b[0m\u001b[37m━━━━━━━━━━━━━━━━━━\u001b[0m \u001b[1m1s\u001b[0m 161ms/step - categorical_accuracy: 1.0000 - loss: 8.3446e-08"
          ]
        },
        {
          "name": "stderr",
          "output_type": "stream",
          "text": [
            "2024-08-17 14:47:36.059120: I tensorflow/core/framework/local_rendezvous.cc:404] Local rendezvous is aborting with status: OUT_OF_RANGE: End of sequence\n",
            "\t [[{{node IteratorGetNext}}]]\n"
          ]
        },
        {
          "name": "stdout",
          "output_type": "stream",
          "text": [
            "\u001b[1m10/10\u001b[0m \u001b[32m━━━━━━━━━━━━━━━━━━━━\u001b[0m\u001b[37m\u001b[0m \u001b[1m0s\u001b[0m 31ms/step - categorical_accuracy: 1.0000 - loss: 1.2636e-07 - val_categorical_accuracy: 0.3333 - val_loss: 0.8997\n",
            "Epoch 3/100\n"
          ]
        },
        {
          "name": "stderr",
          "output_type": "stream",
          "text": [
            "2024-08-17 14:47:36.376604: I tensorflow/core/framework/local_rendezvous.cc:404] Local rendezvous is aborting with status: OUT_OF_RANGE: End of sequence\n",
            "\t [[{{node IteratorGetNext}}]]\n"
          ]
        },
        {
          "name": "stdout",
          "output_type": "stream",
          "text": [
            "\u001b[1m10/10\u001b[0m \u001b[32m━━━━━━━━━━━━━━━━━━━━\u001b[0m\u001b[37m\u001b[0m \u001b[1m2s\u001b[0m 177ms/step - categorical_accuracy: 1.0000 - loss: 8.5288e-08 - val_categorical_accuracy: 0.3333 - val_loss: 1.8455\n",
            "Epoch 4/100\n",
            "\u001b[1m 1/10\u001b[0m \u001b[32m━━\u001b[0m\u001b[37m━━━━━━━━━━━━━━━━━━\u001b[0m \u001b[1m1s\u001b[0m 191ms/step - categorical_accuracy: 1.0000 - loss: 3.5763e-08"
          ]
        },
        {
          "name": "stderr",
          "output_type": "stream",
          "text": [
            "2024-08-17 14:47:38.532235: I tensorflow/core/framework/local_rendezvous.cc:404] Local rendezvous is aborting with status: OUT_OF_RANGE: End of sequence\n",
            "\t [[{{node IteratorGetNext}}]]\n"
          ]
        },
        {
          "name": "stdout",
          "output_type": "stream",
          "text": [
            "\u001b[1m10/10\u001b[0m \u001b[32m━━━━━━━━━━━━━━━━━━━━\u001b[0m\u001b[37m\u001b[0m \u001b[1m0s\u001b[0m 34ms/step - categorical_accuracy: 1.0000 - loss: 8.4043e-08 - val_categorical_accuracy: 0.3333 - val_loss: 2.0617\n",
            "Epoch 5/100\n",
            "\u001b[1m10/10\u001b[0m \u001b[32m━━━━━━━━━━━━━━━━━━━━\u001b[0m\u001b[37m\u001b[0m \u001b[1m2s\u001b[0m 172ms/step - categorical_accuracy: 1.0000 - loss: 1.2588e-07 - val_categorical_accuracy: 0.3333 - val_loss: 3.1368\n",
            "Epoch 6/100\n",
            "\u001b[1m10/10\u001b[0m \u001b[32m━━━━━━━━━━━━━━━━━━━━\u001b[0m\u001b[37m\u001b[0m \u001b[1m0s\u001b[0m 32ms/step - categorical_accuracy: 1.0000 - loss: 1.3351e-07 - val_categorical_accuracy: 0.3333 - val_loss: 3.3509\n",
            "Epoch 7/100\n"
          ]
        },
        {
          "name": "stderr",
          "output_type": "stream",
          "text": [
            "2024-08-17 14:47:41.174971: I tensorflow/core/framework/local_rendezvous.cc:404] Local rendezvous is aborting with status: OUT_OF_RANGE: End of sequence\n",
            "\t [[{{node IteratorGetNext}}]]\n"
          ]
        },
        {
          "name": "stdout",
          "output_type": "stream",
          "text": [
            "\u001b[1m10/10\u001b[0m \u001b[32m━━━━━━━━━━━━━━━━━━━━\u001b[0m\u001b[37m\u001b[0m \u001b[1m2s\u001b[0m 159ms/step - categorical_accuracy: 1.0000 - loss: 1.7845e-07 - val_categorical_accuracy: 0.3333 - val_loss: 4.3366\n",
            "Epoch 8/100\n",
            "\u001b[1m10/10\u001b[0m \u001b[32m━━━━━━━━━━━━━━━━━━━━\u001b[0m\u001b[37m\u001b[0m \u001b[1m0s\u001b[0m 32ms/step - categorical_accuracy: 1.0000 - loss: 3.8445e-08 - val_categorical_accuracy: 0.3333 - val_loss: 4.5174\n",
            "Epoch 9/100\n",
            "\u001b[1m10/10\u001b[0m \u001b[32m━━━━━━━━━━━━━━━━━━━━\u001b[0m\u001b[37m\u001b[0m \u001b[1m2s\u001b[0m 171ms/step - categorical_accuracy: 1.0000 - loss: 1.4063e-07 - val_categorical_accuracy: 0.3333 - val_loss: 5.3705\n",
            "Epoch 10/100\n",
            "\u001b[1m10/10\u001b[0m \u001b[32m━━━━━━━━━━━━━━━━━━━━\u001b[0m\u001b[37m\u001b[0m \u001b[1m1s\u001b[0m 34ms/step - categorical_accuracy: 1.0000 - loss: 3.6955e-08 - val_categorical_accuracy: 0.3333 - val_loss: 5.5297\n",
            "Epoch 11/100\n",
            "\u001b[1m10/10\u001b[0m \u001b[32m━━━━━━━━━━━━━━━━━━━━\u001b[0m\u001b[37m\u001b[0m \u001b[1m2s\u001b[0m 163ms/step - categorical_accuracy: 1.0000 - loss: 7.1128e-08 - val_categorical_accuracy: 0.3333 - val_loss: 6.2777\n",
            "Epoch 12/100\n",
            "\u001b[1m 1/10\u001b[0m \u001b[32m━━\u001b[0m\u001b[37m━━━━━━━━━━━━━━━━━━\u001b[0m \u001b[1m1s\u001b[0m 185ms/step - categorical_accuracy: 1.0000 - loss: 1.6093e-07"
          ]
        },
        {
          "name": "stderr",
          "output_type": "stream",
          "text": [
            "2024-08-17 14:47:47.346074: I tensorflow/core/framework/local_rendezvous.cc:404] Local rendezvous is aborting with status: OUT_OF_RANGE: End of sequence\n",
            "\t [[{{node IteratorGetNext}}]]\n"
          ]
        },
        {
          "name": "stdout",
          "output_type": "stream",
          "text": [
            "\u001b[1m10/10\u001b[0m \u001b[32m━━━━━━━━━━━━━━━━━━━━\u001b[0m\u001b[37m\u001b[0m \u001b[1m0s\u001b[0m 34ms/step - categorical_accuracy: 1.0000 - loss: 1.1265e-07 - val_categorical_accuracy: 0.3333 - val_loss: 6.4237\n",
            "Epoch 13/100\n",
            "\u001b[1m10/10\u001b[0m \u001b[32m━━━━━━━━━━━━━━━━━━━━\u001b[0m\u001b[37m\u001b[0m \u001b[1m2s\u001b[0m 171ms/step - categorical_accuracy: 1.0000 - loss: 1.0495e-07 - val_categorical_accuracy: 0.3333 - val_loss: 7.0975\n",
            "Epoch 14/100\n",
            "\u001b[1m10/10\u001b[0m \u001b[32m━━━━━━━━━━━━━━━━━━━━\u001b[0m\u001b[37m\u001b[0m \u001b[1m0s\u001b[0m 30ms/step - categorical_accuracy: 1.0000 - loss: 5.3644e-08 - val_categorical_accuracy: 0.3333 - val_loss: 7.2220\n",
            "Epoch 15/100\n",
            "\u001b[1m10/10\u001b[0m \u001b[32m━━━━━━━━━━━━━━━━━━━━\u001b[0m\u001b[37m\u001b[0m \u001b[1m2s\u001b[0m 161ms/step - categorical_accuracy: 1.0000 - loss: 1.2247e-07 - val_categorical_accuracy: 0.3333 - val_loss: 7.8206\n",
            "Epoch 16/100\n",
            "\u001b[1m10/10\u001b[0m \u001b[32m━━━━━━━━━━━━━━━━━━━━\u001b[0m\u001b[37m\u001b[0m \u001b[1m0s\u001b[0m 33ms/step - categorical_accuracy: 1.0000 - loss: 7.5102e-08 - val_categorical_accuracy: 0.3333 - val_loss: 7.9354\n",
            "Epoch 17/100\n",
            "\u001b[1m10/10\u001b[0m \u001b[32m━━━━━━━━━━━━━━━━━━━━\u001b[0m\u001b[37m\u001b[0m \u001b[1m2s\u001b[0m 173ms/step - categorical_accuracy: 1.0000 - loss: 5.8501e-08 - val_categorical_accuracy: 0.3333 - val_loss: 8.4721\n",
            "Epoch 18/100\n",
            "\u001b[1m10/10\u001b[0m \u001b[32m━━━━━━━━━━━━━━━━━━━━\u001b[0m\u001b[37m\u001b[0m \u001b[1m0s\u001b[0m 31ms/step - categorical_accuracy: 1.0000 - loss: 1.4931e-07 - val_categorical_accuracy: 0.3333 - val_loss: 8.5733\n",
            "Epoch 19/100\n",
            "\u001b[1m10/10\u001b[0m \u001b[32m━━━━━━━━━━━━━━━━━━━━\u001b[0m\u001b[37m\u001b[0m \u001b[1m2s\u001b[0m 160ms/step - categorical_accuracy: 1.0000 - loss: 1.2574e-07 - val_categorical_accuracy: 0.3333 - val_loss: 9.0511\n",
            "Epoch 20/100\n",
            "\u001b[1m10/10\u001b[0m \u001b[32m━━━━━━━━━━━━━━━━━━━━\u001b[0m\u001b[37m\u001b[0m \u001b[1m0s\u001b[0m 31ms/step - categorical_accuracy: 1.0000 - loss: 1.6093e-08 - val_categorical_accuracy: 0.3333 - val_loss: 9.1400\n",
            "Epoch 21/100\n",
            "\u001b[1m10/10\u001b[0m \u001b[32m━━━━━━━━━━━━━━━━━━━━\u001b[0m\u001b[37m\u001b[0m \u001b[1m2s\u001b[0m 171ms/step - categorical_accuracy: 1.0000 - loss: 4.8417e-08 - val_categorical_accuracy: 0.3333 - val_loss: 9.5594\n",
            "Epoch 22/100\n",
            "\u001b[1m10/10\u001b[0m \u001b[32m━━━━━━━━━━━━━━━━━━━━\u001b[0m\u001b[37m\u001b[0m \u001b[1m0s\u001b[0m 30ms/step - categorical_accuracy: 1.0000 - loss: 1.2189e-07 - val_categorical_accuracy: 0.3333 - val_loss: 9.6408\n",
            "Epoch 23/100\n"
          ]
        },
        {
          "name": "stderr",
          "output_type": "stream",
          "text": [
            "2024-08-17 14:47:58.638488: I tensorflow/core/framework/local_rendezvous.cc:404] Local rendezvous is aborting with status: OUT_OF_RANGE: End of sequence\n",
            "\t [[{{node IteratorGetNext}}]]\n"
          ]
        },
        {
          "name": "stdout",
          "output_type": "stream",
          "text": [
            "\u001b[1m10/10\u001b[0m \u001b[32m━━━━━━━━━━━━━━━━━━━━\u001b[0m\u001b[37m\u001b[0m \u001b[1m2s\u001b[0m 164ms/step - categorical_accuracy: 1.0000 - loss: 7.7689e-08 - val_categorical_accuracy: 0.3333 - val_loss: 10.0117\n",
            "Epoch 24/100\n",
            "\u001b[1m10/10\u001b[0m \u001b[32m━━━━━━━━━━━━━━━━━━━━\u001b[0m\u001b[37m\u001b[0m \u001b[1m0s\u001b[0m 32ms/step - categorical_accuracy: 1.0000 - loss: 1.0014e-07 - val_categorical_accuracy: 0.3333 - val_loss: 10.0808\n",
            "Epoch 25/100\n",
            "\u001b[1m10/10\u001b[0m \u001b[32m━━━━━━━━━━━━━━━━━━━━\u001b[0m\u001b[37m\u001b[0m \u001b[1m2s\u001b[0m 167ms/step - categorical_accuracy: 1.0000 - loss: 1.0366e-07 - val_categorical_accuracy: 0.3333 - val_loss: 10.4086\n",
            "Epoch 26/100\n",
            "\u001b[1m10/10\u001b[0m \u001b[32m━━━━━━━━━━━━━━━━━━━━\u001b[0m\u001b[37m\u001b[0m \u001b[1m0s\u001b[0m 32ms/step - categorical_accuracy: 1.0000 - loss: 0.0000e+00 - val_categorical_accuracy: 0.3333 - val_loss: 10.4644\n",
            "Epoch 27/100\n",
            "\u001b[1m10/10\u001b[0m \u001b[32m━━━━━━━━━━━━━━━━━━━━\u001b[0m\u001b[37m\u001b[0m \u001b[1m2s\u001b[0m 168ms/step - categorical_accuracy: 1.0000 - loss: 5.0543e-08 - val_categorical_accuracy: 0.3333 - val_loss: 10.7467\n",
            "Epoch 28/100\n",
            "\u001b[1m10/10\u001b[0m \u001b[32m━━━━━━━━━━━━━━━━━━━━\u001b[0m\u001b[37m\u001b[0m \u001b[1m0s\u001b[0m 32ms/step - categorical_accuracy: 1.0000 - loss: 1.6093e-08 - val_categorical_accuracy: 0.3333 - val_loss: 10.7973\n",
            "Epoch 29/100\n",
            "\u001b[1m10/10\u001b[0m \u001b[32m━━━━━━━━━━━━━━━━━━━━\u001b[0m\u001b[37m\u001b[0m \u001b[1m2s\u001b[0m 175ms/step - categorical_accuracy: 1.0000 - loss: 3.7114e-08 - val_categorical_accuracy: 0.3333 - val_loss: 11.0365\n",
            "Epoch 30/100\n",
            "\u001b[1m10/10\u001b[0m \u001b[32m━━━━━━━━━━━━━━━━━━━━\u001b[0m\u001b[37m\u001b[0m \u001b[1m0s\u001b[0m 29ms/step - categorical_accuracy: 1.0000 - loss: 4.2319e-08 - val_categorical_accuracy: 0.3333 - val_loss: 11.0817\n",
            "Epoch 31/100\n",
            "\u001b[1m10/10\u001b[0m \u001b[32m━━━━━━━━━━━━━━━━━━━━\u001b[0m\u001b[37m\u001b[0m \u001b[1m2s\u001b[0m 167ms/step - categorical_accuracy: 1.0000 - loss: 2.9982e-07 - val_categorical_accuracy: 0.3333 - val_loss: 11.2777\n",
            "Epoch 32/100\n",
            "\u001b[1m10/10\u001b[0m \u001b[32m━━━━━━━━━━━━━━━━━━━━\u001b[0m\u001b[37m\u001b[0m \u001b[1m0s\u001b[0m 29ms/step - categorical_accuracy: 1.0000 - loss: 4.7088e-08 - val_categorical_accuracy: 0.3333 - val_loss: 11.3173\n",
            "Epoch 33/100\n",
            "\u001b[1m10/10\u001b[0m \u001b[32m━━━━━━━━━━━━━━━━━━━━\u001b[0m\u001b[37m\u001b[0m \u001b[1m2s\u001b[0m 163ms/step - categorical_accuracy: 1.0000 - loss: 5.8712e-08 - val_categorical_accuracy: 0.3333 - val_loss: 11.4834\n",
            "Epoch 34/100\n",
            "\u001b[1m10/10\u001b[0m \u001b[32m━━━━━━━━━━━━━━━━━━━━\u001b[0m\u001b[37m\u001b[0m \u001b[1m0s\u001b[0m 30ms/step - categorical_accuracy: 1.0000 - loss: 7.7784e-08 - val_categorical_accuracy: 0.3333 - val_loss: 11.5187\n",
            "Epoch 35/100\n",
            "\u001b[1m10/10\u001b[0m \u001b[32m━━━━━━━━━━━━━━━━━━━━\u001b[0m\u001b[37m\u001b[0m \u001b[1m2s\u001b[0m 172ms/step - categorical_accuracy: 1.0000 - loss: 4.7082e-08 - val_categorical_accuracy: 0.3333 - val_loss: 11.6654\n",
            "Epoch 36/100\n",
            "\u001b[1m10/10\u001b[0m \u001b[32m━━━━━━━━━━━━━━━━━━━━\u001b[0m\u001b[37m\u001b[0m \u001b[1m0s\u001b[0m 32ms/step - categorical_accuracy: 1.0000 - loss: 6.5863e-08 - val_categorical_accuracy: 0.3333 - val_loss: 11.6915\n",
            "Epoch 37/100\n",
            "\u001b[1m10/10\u001b[0m \u001b[32m━━━━━━━━━━━━━━━━━━━━\u001b[0m\u001b[37m\u001b[0m \u001b[1m2s\u001b[0m 166ms/step - categorical_accuracy: 1.0000 - loss: 4.1121e-08 - val_categorical_accuracy: 0.3333 - val_loss: 11.8034\n",
            "Epoch 38/100\n",
            "\u001b[1m10/10\u001b[0m \u001b[32m━━━━━━━━━━━━━━━━━━━━\u001b[0m\u001b[37m\u001b[0m \u001b[1m0s\u001b[0m 31ms/step - categorical_accuracy: 1.0000 - loss: 1.0848e-07 - val_categorical_accuracy: 0.3333 - val_loss: 11.8268\n",
            "Epoch 39/100\n",
            "\u001b[1m10/10\u001b[0m \u001b[32m━━━━━━━━━━━━━━━━━━━━\u001b[0m\u001b[37m\u001b[0m \u001b[1m2s\u001b[0m 166ms/step - categorical_accuracy: 1.0000 - loss: 2.1065e-08 - val_categorical_accuracy: 0.3333 - val_loss: 11.9086\n",
            "Epoch 40/100\n",
            "\u001b[1m10/10\u001b[0m \u001b[32m━━━━━━━━━━━━━━━━━━━━\u001b[0m\u001b[37m\u001b[0m \u001b[1m0s\u001b[0m 29ms/step - categorical_accuracy: 1.0000 - loss: 3.2246e-07 - val_categorical_accuracy: 0.3333 - val_loss: 11.9233\n",
            "Epoch 41/100\n",
            "\u001b[1m10/10\u001b[0m \u001b[32m━━━━━━━━━━━━━━━━━━━━\u001b[0m\u001b[37m\u001b[0m \u001b[1m2s\u001b[0m 167ms/step - categorical_accuracy: 1.0000 - loss: 3.6363e-08 - val_categorical_accuracy: 0.3333 - val_loss: 11.9725\n",
            "Epoch 42/100\n",
            "\u001b[1m10/10\u001b[0m \u001b[32m━━━━━━━━━━━━━━━━━━━━\u001b[0m\u001b[37m\u001b[0m \u001b[1m0s\u001b[0m 31ms/step - categorical_accuracy: 1.0000 - loss: 2.6822e-08 - val_categorical_accuracy: 0.3333 - val_loss: 11.9821\n",
            "Epoch 43/100\n",
            "\u001b[1m10/10\u001b[0m \u001b[32m━━━━━━━━━━━━━━━━━━━━\u001b[0m\u001b[37m\u001b[0m \u001b[1m2s\u001b[0m 167ms/step - categorical_accuracy: 1.0000 - loss: 5.4171e-08 - val_categorical_accuracy: 0.3333 - val_loss: 11.9931\n",
            "Epoch 44/100\n",
            "\u001b[1m 1/10\u001b[0m \u001b[32m━━\u001b[0m\u001b[37m━━━━━━━━━━━━━━━━━━\u001b[0m \u001b[1m1s\u001b[0m 174ms/step - categorical_accuracy: 1.0000 - loss: 5.9605e-08"
          ]
        },
        {
          "name": "stderr",
          "output_type": "stream",
          "text": [
            "2024-08-17 14:48:22.079907: I tensorflow/core/framework/local_rendezvous.cc:404] Local rendezvous is aborting with status: OUT_OF_RANGE: End of sequence\n",
            "\t [[{{node IteratorGetNext}}]]\n"
          ]
        },
        {
          "name": "stdout",
          "output_type": "stream",
          "text": [
            "\u001b[1m10/10\u001b[0m \u001b[32m━━━━━━━━━━━━━━━━━━━━\u001b[0m\u001b[37m\u001b[0m \u001b[1m0s\u001b[0m 33ms/step - categorical_accuracy: 1.0000 - loss: 3.2783e-08 - val_categorical_accuracy: 0.3333 - val_loss: 11.9952\n",
            "Epoch 45/100\n",
            "\u001b[1m10/10\u001b[0m \u001b[32m━━━━━━━━━━━━━━━━━━━━\u001b[0m\u001b[37m\u001b[0m \u001b[1m2s\u001b[0m 170ms/step - categorical_accuracy: 1.0000 - loss: 3.6907e-08 - val_categorical_accuracy: 0.3333 - val_loss: 11.9779\n",
            "Epoch 46/100\n",
            "\u001b[1m10/10\u001b[0m \u001b[32m━━━━━━━━━━━━━━━━━━━━\u001b[0m\u001b[37m\u001b[0m \u001b[1m0s\u001b[0m 31ms/step - categorical_accuracy: 1.0000 - loss: 1.8775e-08 - val_categorical_accuracy: 0.3333 - val_loss: 11.9729\n",
            "Epoch 47/100\n",
            "\u001b[1m10/10\u001b[0m \u001b[32m━━━━━━━━━━━━━━━━━━━━\u001b[0m\u001b[37m\u001b[0m \u001b[1m2s\u001b[0m 162ms/step - categorical_accuracy: 1.0000 - loss: 1.9743e-08 - val_categorical_accuracy: 0.3333 - val_loss: 11.9249\n",
            "Epoch 48/100\n",
            "\u001b[1m10/10\u001b[0m \u001b[32m━━━━━━━━━━━━━━━━━━━━\u001b[0m\u001b[37m\u001b[0m \u001b[1m0s\u001b[0m 32ms/step - categorical_accuracy: 1.0000 - loss: 5.2452e-08 - val_categorical_accuracy: 0.3333 - val_loss: 11.9129\n",
            "Epoch 49/100\n",
            "\u001b[1m10/10\u001b[0m \u001b[32m━━━━━━━━━━━━━━━━━━━━\u001b[0m\u001b[37m\u001b[0m \u001b[1m2s\u001b[0m 170ms/step - categorical_accuracy: 1.0000 - loss: 2.3291e-08 - val_categorical_accuracy: 0.3333 - val_loss: 11.8281\n",
            "Epoch 50/100\n",
            "\u001b[1m10/10\u001b[0m \u001b[32m━━━━━━━━━━━━━━━━━━━━\u001b[0m\u001b[37m\u001b[0m \u001b[1m0s\u001b[0m 31ms/step - categorical_accuracy: 1.0000 - loss: 4.9770e-08 - val_categorical_accuracy: 0.3333 - val_loss: 11.8148\n",
            "Epoch 51/100\n",
            "\u001b[1m10/10\u001b[0m \u001b[32m━━━━━━━━━━━━━━━━━━━━\u001b[0m\u001b[37m\u001b[0m \u001b[1m2s\u001b[0m 165ms/step - categorical_accuracy: 1.0000 - loss: 4.6087e-08 - val_categorical_accuracy: 0.3333 - val_loss: 11.7108\n",
            "Epoch 52/100\n",
            "\u001b[1m10/10\u001b[0m \u001b[32m━━━━━━━━━━━━━━━━━━━━\u001b[0m\u001b[37m\u001b[0m \u001b[1m0s\u001b[0m 33ms/step - categorical_accuracy: 1.0000 - loss: 1.6093e-08 - val_categorical_accuracy: 0.3333 - val_loss: 11.6864\n",
            "Epoch 53/100\n",
            "\u001b[1m10/10\u001b[0m \u001b[32m━━━━━━━━━━━━━━━━━━━━\u001b[0m\u001b[37m\u001b[0m \u001b[1m2s\u001b[0m 165ms/step - categorical_accuracy: 1.0000 - loss: 2.2434e-08 - val_categorical_accuracy: 0.3333 - val_loss: 11.5494\n",
            "Epoch 54/100\n",
            "\u001b[1m10/10\u001b[0m \u001b[32m━━━━━━━━━━━━━━━━━━━━\u001b[0m\u001b[37m\u001b[0m \u001b[1m0s\u001b[0m 32ms/step - categorical_accuracy: 1.0000 - loss: 2.1458e-08 - val_categorical_accuracy: 0.3333 - val_loss: 11.5217\n",
            "Epoch 55/100\n",
            "\u001b[1m10/10\u001b[0m \u001b[32m━━━━━━━━━━━━━━━━━━━━\u001b[0m\u001b[37m\u001b[0m \u001b[1m2s\u001b[0m 167ms/step - categorical_accuracy: 1.0000 - loss: 4.4660e-08 - val_categorical_accuracy: 0.3333 - val_loss: 11.3574\n",
            "Epoch 56/100\n",
            "\u001b[1m10/10\u001b[0m \u001b[32m━━━━━━━━━━━━━━━━━━━━\u001b[0m\u001b[37m\u001b[0m \u001b[1m0s\u001b[0m 32ms/step - categorical_accuracy: 1.0000 - loss: 2.9504e-08 - val_categorical_accuracy: 0.3333 - val_loss: 11.3242\n",
            "Epoch 57/100\n",
            "\u001b[1m10/10\u001b[0m \u001b[32m━━━━━━━━━━━━━━━━━━━━\u001b[0m\u001b[37m\u001b[0m \u001b[1m2s\u001b[0m 166ms/step - categorical_accuracy: 1.0000 - loss: 4.2936e-08 - val_categorical_accuracy: 0.3333 - val_loss: 11.1332\n",
            "Epoch 58/100\n",
            "\u001b[1m10/10\u001b[0m \u001b[32m━━━━━━━━━━━━━━━━━━━━\u001b[0m\u001b[37m\u001b[0m \u001b[1m0s\u001b[0m 32ms/step - categorical_accuracy: 1.0000 - loss: 2.1458e-08 - val_categorical_accuracy: 0.3333 - val_loss: 11.0911\n",
            "Epoch 59/100\n",
            "\u001b[1m10/10\u001b[0m \u001b[32m━━━━━━━━━━━━━━━━━━━━\u001b[0m\u001b[37m\u001b[0m \u001b[1m2s\u001b[0m 168ms/step - categorical_accuracy: 1.0000 - loss: 7.0793e-08 - val_categorical_accuracy: 0.3333 - val_loss: 10.8789\n",
            "Epoch 60/100\n",
            "\u001b[1m10/10\u001b[0m \u001b[32m━━━━━━━━━━━━━━━━━━━━\u001b[0m\u001b[37m\u001b[0m \u001b[1m0s\u001b[0m 31ms/step - categorical_accuracy: 1.0000 - loss: 0.0000e+00 - val_categorical_accuracy: 0.3333 - val_loss: 10.8301\n",
            "Epoch 61/100\n",
            "\u001b[1m10/10\u001b[0m \u001b[32m━━━━━━━━━━━━━━━━━━━━\u001b[0m\u001b[37m\u001b[0m \u001b[1m2s\u001b[0m 167ms/step - categorical_accuracy: 1.0000 - loss: 7.4949e-09 - val_categorical_accuracy: 0.3333 - val_loss: 10.5992\n",
            "Epoch 62/100\n",
            "\u001b[1m10/10\u001b[0m \u001b[32m━━━━━━━━━━━━━━━━━━━━\u001b[0m\u001b[37m\u001b[0m \u001b[1m0s\u001b[0m 32ms/step - categorical_accuracy: 1.0000 - loss: 0.0000e+00 - val_categorical_accuracy: 0.3333 - val_loss: 10.5508\n",
            "Epoch 63/100\n",
            "\u001b[1m10/10\u001b[0m \u001b[32m━━━━━━━━━━━━━━━━━━━━\u001b[0m\u001b[37m\u001b[0m \u001b[1m2s\u001b[0m 168ms/step - categorical_accuracy: 1.0000 - loss: 2.8344e-08 - val_categorical_accuracy: 0.3333 - val_loss: 10.2988\n",
            "Epoch 64/100\n",
            "\u001b[1m10/10\u001b[0m \u001b[32m━━━━━━━━━━━━━━━━━━━━\u001b[0m\u001b[37m\u001b[0m \u001b[1m0s\u001b[0m 32ms/step - categorical_accuracy: 1.0000 - loss: 0.0000e+00 - val_categorical_accuracy: 0.3333 - val_loss: 10.2355\n",
            "Epoch 65/100\n",
            "\u001b[1m10/10\u001b[0m \u001b[32m━━━━━━━━━━━━━━━━━━━━\u001b[0m\u001b[37m\u001b[0m \u001b[1m2s\u001b[0m 169ms/step - categorical_accuracy: 1.0000 - loss: 1.8423e-09 - val_categorical_accuracy: 0.3333 - val_loss: 9.9332\n",
            "Epoch 66/100\n",
            "\u001b[1m10/10\u001b[0m \u001b[32m━━━━━━━━━━━━━━━━━━━━\u001b[0m\u001b[37m\u001b[0m \u001b[1m0s\u001b[0m 30ms/step - categorical_accuracy: 1.0000 - loss: 2.6226e-08 - val_categorical_accuracy: 0.3333 - val_loss: 9.8733\n",
            "Epoch 67/100\n",
            "\u001b[1m10/10\u001b[0m \u001b[32m━━━━━━━━━━━━━━━━━━━━\u001b[0m\u001b[37m\u001b[0m \u001b[1m2s\u001b[0m 165ms/step - categorical_accuracy: 1.0000 - loss: 4.1275e-08 - val_categorical_accuracy: 0.3333 - val_loss: 9.5125\n",
            "Epoch 68/100\n",
            "\u001b[1m10/10\u001b[0m \u001b[32m━━━━━━━━━━━━━━━━━━━━\u001b[0m\u001b[37m\u001b[0m \u001b[1m0s\u001b[0m 32ms/step - categorical_accuracy: 1.0000 - loss: 0.0000e+00 - val_categorical_accuracy: 0.3333 - val_loss: 9.4280\n",
            "Epoch 69/100\n",
            "\u001b[1m10/10\u001b[0m \u001b[32m━━━━━━━━━━━━━━━━━━━━\u001b[0m\u001b[37m\u001b[0m \u001b[1m2s\u001b[0m 173ms/step - categorical_accuracy: 1.0000 - loss: 1.0426e-08 - val_categorical_accuracy: 0.3333 - val_loss: 9.0199\n",
            "Epoch 70/100\n",
            "\u001b[1m10/10\u001b[0m \u001b[32m━━━━━━━━━━━━━━━━━━━━\u001b[0m\u001b[37m\u001b[0m \u001b[1m0s\u001b[0m 31ms/step - categorical_accuracy: 1.0000 - loss: 1.0461e-07 - val_categorical_accuracy: 0.3333 - val_loss: 8.9424\n",
            "Epoch 71/100\n",
            "\u001b[1m10/10\u001b[0m \u001b[32m━━━━━━━━━━━━━━━━━━━━\u001b[0m\u001b[37m\u001b[0m \u001b[1m2s\u001b[0m 169ms/step - categorical_accuracy: 1.0000 - loss: 9.8920e-09 - val_categorical_accuracy: 0.3333 - val_loss: 8.5025\n",
            "Epoch 72/100\n",
            "\u001b[1m10/10\u001b[0m \u001b[32m━━━━━━━━━━━━━━━━━━━━\u001b[0m\u001b[37m\u001b[0m \u001b[1m0s\u001b[0m 31ms/step - categorical_accuracy: 1.0000 - loss: 2.9504e-08 - val_categorical_accuracy: 0.3333 - val_loss: 8.4182\n",
            "Epoch 73/100\n",
            "\u001b[1m10/10\u001b[0m \u001b[32m━━━━━━━━━━━━━━━━━━━━\u001b[0m\u001b[37m\u001b[0m \u001b[1m2s\u001b[0m 170ms/step - categorical_accuracy: 1.0000 - loss: 4.0173e-09 - val_categorical_accuracy: 0.3333 - val_loss: 7.9458\n",
            "Epoch 74/100\n",
            "\u001b[1m10/10\u001b[0m \u001b[32m━━━━━━━━━━━━━━━━━━━━\u001b[0m\u001b[37m\u001b[0m \u001b[1m0s\u001b[0m 31ms/step - categorical_accuracy: 1.0000 - loss: 5.9605e-08 - val_categorical_accuracy: 0.3333 - val_loss: 7.8602\n",
            "Epoch 75/100\n",
            "\u001b[1m10/10\u001b[0m \u001b[32m━━━━━━━━━━━━━━━━━━━━\u001b[0m\u001b[37m\u001b[0m \u001b[1m2s\u001b[0m 161ms/step - categorical_accuracy: 1.0000 - loss: 4.1763e-08 - val_categorical_accuracy: 0.3333 - val_loss: 7.3596\n",
            "Epoch 76/100\n",
            "\u001b[1m10/10\u001b[0m \u001b[32m━━━━━━━━━━━━━━━━━━━━\u001b[0m\u001b[37m\u001b[0m \u001b[1m0s\u001b[0m 34ms/step - categorical_accuracy: 1.0000 - loss: 2.6226e-08 - val_categorical_accuracy: 0.3333 - val_loss: 7.2623\n",
            "Epoch 77/100\n",
            "\u001b[1m10/10\u001b[0m \u001b[32m━━━━━━━━━━━━━━━━━━━━\u001b[0m\u001b[37m\u001b[0m \u001b[1m2s\u001b[0m 165ms/step - categorical_accuracy: 1.0000 - loss: 1.1833e-08 - val_categorical_accuracy: 0.3333 - val_loss: 6.7314\n",
            "Epoch 78/100\n",
            "\u001b[1m10/10\u001b[0m \u001b[32m━━━━━━━━━━━━━━━━━━━━\u001b[0m\u001b[37m\u001b[0m \u001b[1m0s\u001b[0m 30ms/step - categorical_accuracy: 1.0000 - loss: 2.6822e-08 - val_categorical_accuracy: 0.3333 - val_loss: 6.6288\n",
            "Epoch 79/100\n",
            "\u001b[1m10/10\u001b[0m \u001b[32m━━━━━━━━━━━━━━━━━━━━\u001b[0m\u001b[37m\u001b[0m \u001b[1m2s\u001b[0m 165ms/step - categorical_accuracy: 1.0000 - loss: 1.8643e-08 - val_categorical_accuracy: 0.3333 - val_loss: 6.0866\n",
            "Epoch 80/100\n",
            "\u001b[1m10/10\u001b[0m \u001b[32m━━━━━━━━━━━━━━━━━━━━\u001b[0m\u001b[37m\u001b[0m \u001b[1m0s\u001b[0m 32ms/step - categorical_accuracy: 1.0000 - loss: 0.0000e+00 - val_categorical_accuracy: 0.3333 - val_loss: 5.9714\n",
            "Epoch 81/100\n",
            "\u001b[1m10/10\u001b[0m \u001b[32m━━━━━━━━━━━━━━━━━━━━\u001b[0m\u001b[37m\u001b[0m \u001b[1m2s\u001b[0m 162ms/step - categorical_accuracy: 1.0000 - loss: 8.1219e-09 - val_categorical_accuracy: 0.3333 - val_loss: 5.3995\n",
            "Epoch 82/100\n",
            "\u001b[1m10/10\u001b[0m \u001b[32m━━━━━━━━━━━━━━━━━━━━\u001b[0m\u001b[37m\u001b[0m \u001b[1m0s\u001b[0m 30ms/step - categorical_accuracy: 1.0000 - loss: 0.0000e+00 - val_categorical_accuracy: 0.3333 - val_loss: 5.2876\n",
            "Epoch 83/100\n",
            "\u001b[1m10/10\u001b[0m \u001b[32m━━━━━━━━━━━━━━━━━━━━\u001b[0m\u001b[37m\u001b[0m \u001b[1m2s\u001b[0m 166ms/step - categorical_accuracy: 1.0000 - loss: 1.6399e-08 - val_categorical_accuracy: 0.3333 - val_loss: 4.7025\n",
            "Epoch 84/100\n",
            "\u001b[1m10/10\u001b[0m \u001b[32m━━━━━━━━━━━━━━━━━━━━\u001b[0m\u001b[37m\u001b[0m \u001b[1m0s\u001b[0m 32ms/step - categorical_accuracy: 1.0000 - loss: 0.0000e+00 - val_categorical_accuracy: 0.3333 - val_loss: 4.5836\n",
            "Epoch 85/100\n",
            "\u001b[1m10/10\u001b[0m \u001b[32m━━━━━━━━━━━━━━━━━━━━\u001b[0m\u001b[37m\u001b[0m \u001b[1m2s\u001b[0m 164ms/step - categorical_accuracy: 1.0000 - loss: 0.0000e+00 - val_categorical_accuracy: 0.3333 - val_loss: 3.9525\n",
            "Epoch 86/100\n",
            "\u001b[1m10/10\u001b[0m \u001b[32m━━━━━━━━━━━━━━━━━━━━\u001b[0m\u001b[37m\u001b[0m \u001b[1m0s\u001b[0m 31ms/step - categorical_accuracy: 1.0000 - loss: 2.9504e-08 - val_categorical_accuracy: 0.3333 - val_loss: 3.8334\n",
            "Epoch 87/100\n"
          ]
        },
        {
          "name": "stderr",
          "output_type": "stream",
          "text": [
            "2024-08-17 14:49:07.742685: I tensorflow/core/framework/local_rendezvous.cc:404] Local rendezvous is aborting with status: OUT_OF_RANGE: End of sequence\n",
            "\t [[{{node IteratorGetNext}}]]\n"
          ]
        },
        {
          "name": "stdout",
          "output_type": "stream",
          "text": [
            "\u001b[1m10/10\u001b[0m \u001b[32m━━━━━━━━━━━━━━━━━━━━\u001b[0m\u001b[37m\u001b[0m \u001b[1m2s\u001b[0m 163ms/step - categorical_accuracy: 1.0000 - loss: 4.6904e-08 - val_categorical_accuracy: 0.3333 - val_loss: 3.2102\n",
            "Epoch 88/100\n",
            "\u001b[1m10/10\u001b[0m \u001b[32m━━━━━━━━━━━━━━━━━━━━\u001b[0m\u001b[37m\u001b[0m \u001b[1m0s\u001b[0m 30ms/step - categorical_accuracy: 1.0000 - loss: 0.0000e+00 - val_categorical_accuracy: 0.3333 - val_loss: 3.0821\n",
            "Epoch 89/100\n",
            "\u001b[1m10/10\u001b[0m \u001b[32m━━━━━━━━━━━━━━━━━━━━\u001b[0m\u001b[37m\u001b[0m \u001b[1m2s\u001b[0m 165ms/step - categorical_accuracy: 1.0000 - loss: 3.0784e-08 - val_categorical_accuracy: 0.3333 - val_loss: 2.4905\n",
            "Epoch 90/100\n",
            "\u001b[1m10/10\u001b[0m \u001b[32m━━━━━━━━━━━━━━━━━━━━\u001b[0m\u001b[37m\u001b[0m \u001b[1m0s\u001b[0m 31ms/step - categorical_accuracy: 1.0000 - loss: 7.2420e-08 - val_categorical_accuracy: 0.3333 - val_loss: 2.3995\n",
            "Epoch 91/100\n",
            "\u001b[1m10/10\u001b[0m \u001b[32m━━━━━━━━━━━━━━━━━━━━\u001b[0m\u001b[37m\u001b[0m \u001b[1m2s\u001b[0m 166ms/step - categorical_accuracy: 1.0000 - loss: 0.0000e+00 - val_categorical_accuracy: 0.6667 - val_loss: 1.9229\n",
            "Epoch 92/100\n",
            "\u001b[1m10/10\u001b[0m \u001b[32m━━━━━━━━━━━━━━━━━━━━\u001b[0m\u001b[37m\u001b[0m \u001b[1m0s\u001b[0m 31ms/step - categorical_accuracy: 1.0000 - loss: 1.0192e-07 - val_categorical_accuracy: 0.6667 - val_loss: 1.8505\n",
            "Epoch 93/100\n",
            "\u001b[1m10/10\u001b[0m \u001b[32m━━━━━━━━━━━━━━━━━━━━\u001b[0m\u001b[37m\u001b[0m \u001b[1m2s\u001b[0m 165ms/step - categorical_accuracy: 1.0000 - loss: 0.0000e+00 - val_categorical_accuracy: 0.6667 - val_loss: 1.4700\n",
            "Epoch 94/100\n",
            "\u001b[1m10/10\u001b[0m \u001b[32m━━━━━━━━━━━━━━━━━━━━\u001b[0m\u001b[37m\u001b[0m \u001b[1m0s\u001b[0m 31ms/step - categorical_accuracy: 1.0000 - loss: 6.5565e-08 - val_categorical_accuracy: 0.6667 - val_loss: 1.4079\n",
            "Epoch 95/100\n",
            "\u001b[1m10/10\u001b[0m \u001b[32m━━━━━━━━━━━━━━━━━━━━\u001b[0m\u001b[37m\u001b[0m \u001b[1m2s\u001b[0m 166ms/step - categorical_accuracy: 1.0000 - loss: 2.5255e-08 - val_categorical_accuracy: 0.6667 - val_loss: 1.0922\n",
            "Epoch 96/100\n",
            "\u001b[1m10/10\u001b[0m \u001b[32m━━━━━━━━━━━━━━━━━━━━\u001b[0m\u001b[37m\u001b[0m \u001b[1m0s\u001b[0m 30ms/step - categorical_accuracy: 1.0000 - loss: 0.0000e+00 - val_categorical_accuracy: 0.6667 - val_loss: 1.0308\n",
            "Epoch 97/100\n",
            "\u001b[1m10/10\u001b[0m \u001b[32m━━━━━━━━━━━━━━━━━━━━\u001b[0m\u001b[37m\u001b[0m \u001b[1m2s\u001b[0m 167ms/step - categorical_accuracy: 1.0000 - loss: 6.4645e-09 - val_categorical_accuracy: 0.6667 - val_loss: 0.7485\n",
            "Epoch 98/100\n",
            "\u001b[1m10/10\u001b[0m \u001b[32m━━━━━━━━━━━━━━━━━━━━\u001b[0m\u001b[37m\u001b[0m \u001b[1m0s\u001b[0m 31ms/step - categorical_accuracy: 1.0000 - loss: 0.0000e+00 - val_categorical_accuracy: 0.6667 - val_loss: 0.6911\n",
            "Epoch 99/100\n",
            "\u001b[1m10/10\u001b[0m \u001b[32m━━━━━━━━━━━━━━━━━━━━\u001b[0m\u001b[37m\u001b[0m \u001b[1m2s\u001b[0m 166ms/step - categorical_accuracy: 1.0000 - loss: 1.0366e-08 - val_categorical_accuracy: 0.6667 - val_loss: 0.4497\n",
            "Epoch 100/100\n",
            "\u001b[1m10/10\u001b[0m \u001b[32m━━━━━━━━━━━━━━━━━━━━\u001b[0m\u001b[37m\u001b[0m \u001b[1m0s\u001b[0m 32ms/step - categorical_accuracy: 1.0000 - loss: 0.0000e+00 - val_categorical_accuracy: 0.6667 - val_loss: 0.4045\n"
          ]
        },
        {
          "data": {
            "image/png": "[encoded data removed]",
            "text/plain": [
              "<Figure size 640x480 with 1 Axes>"
            ]
          },
          "metadata": {},
          "output_type": "display_data"
        },
        {
          "data": {
            "image/png": "[encoded data removed]",
            "text/plain": [
              "<Figure size 640x480 with 1 Axes>"
            ]
          },
          "metadata": {},
          "output_type": "display_data"
        },
        {
          "name": "stdout",
          "output_type": "stream",
          "text": [
            "\u001b[1m50/50\u001b[0m \u001b[32m━━━━━━━━━━━━━━━━━━━━\u001b[0m\u001b[37m\u001b[0m \u001b[1m1s\u001b[0m 10ms/step - categorical_accuracy: 0.6698 - loss: 0.4007\n"
          ]
        },
        {
          "name": "stderr",
          "output_type": "stream",
          "text": [
            "WARNING:absl:You are saving your model as an HDF5 file via `model.save()` or `keras.saving.save_model(model)`. This file format is considered legacy. We recommend using instead the native Keras format, e.g. `model.save('my_model.keras')` or `keras.saving.save_model(model, 'my_model.keras')`. \n"
          ]
        },
        {
          "name": "stdout",
          "output_type": "stream",
          "text": [
            "test_acc: 0.6666666865348816\n"
          ]
        }
      ],
      "source": [
        "history = model.fit( # The image data must come from the image generator that takes the images from the correct dirrectory. https://keras.io/models/sequential/\n",
        "    train_generator, # Images are taken from the train_generator\n",
        "    steps_per_epoch=10, # The number of steps from the train_generator before one epoch if finished.\n",
        "                         # 100 steps * 20 batch size in train generator = 2000 training images per epoch. This way each traning image will be sampled once per epoch.\n",
        "    epochs=100, # Train data for 50 epochs\n",
        "    validation_data=validation_generator, # Take data from the validataion generator\n",
        "    validation_steps=50, # 50 steps * 20 batch size in validation generator = 1000 validation images per epoch\n",
        "    verbose = 1,\n",
        "    callbacks=[EarlyStopping(monitor='val_accuracy',mode='max', patience=3, restore_best_weights = True)]) # We will not use call backs to stop early.\n",
        "\n",
        "plot_history(history) # Use our plot function to plot the loss and accuracy.\n",
        "\n",
        "test_loss, test_acc =model.evaluate(test_generator, steps = 50) # Test images are in a dirrectory so they must flow from dirrectory.\n",
        "                                                                           # 50 steps * 20 batch size in test generator = 1000 test images per epoch\n",
        "print('test_acc:', test_acc)\n",
        "\n",
        "model.save('phm_pic_base.h5')"
      ]
    },
    {
      "cell_type": "code",
      "execution_count": null,
      "metadata": {
        "id": "dFwd2ZQT5pWQ"
      },
      "outputs": [],
      "source": []
    }
  ],
  "metadata": {
    "colab": {
      "provenance": []
    },
    "kernelspec": {
      "display_name": "Python 3 (ipykernel)",
      "language": "python",
      "name": "python3"
    },
    "language_info": {
      "codemirror_mode": {
        "name": "ipython",
        "version": 3
      },
      "file_extension": ".py",
      "mimetype": "text/x-python",
      "name": "python",
      "nbconvert_exporter": "python",
      "pygments_lexer": "ipython3",
      "version": "3.10.12"
    }
  },
  "nbformat": 4,
  "nbformat_minor": 0
}